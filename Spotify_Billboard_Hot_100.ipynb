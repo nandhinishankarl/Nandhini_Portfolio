{
  "cells": [
    {
      "cell_type": "markdown",
      "metadata": {
        "id": "-yXaAkN2MuBj"
      },
      "source": [
        "## Spotify Billboard Hot 100"
      ]
    },
    {
      "cell_type": "code",
      "execution_count": null,
      "metadata": {
        "id": "zjxPC7hnMuBn",
        "outputId": "705361c8-1eb5-4fc4-aad3-2b55f1a273ec"
      },
      "outputs": [
        {
          "name": "stdout",
          "output_type": "stream",
          "text": [
            "Requirement already satisfied: spotipy in ./opt/anaconda3/lib/python3.8/site-packages (2.22.1)\n",
            "Requirement already satisfied: redis>=3.5.3 in ./opt/anaconda3/lib/python3.8/site-packages (from spotipy) (4.4.2)\n",
            "Requirement already satisfied: urllib3>=1.26.0 in ./opt/anaconda3/lib/python3.8/site-packages (from spotipy) (1.26.14)\n",
            "Requirement already satisfied: requests>=2.25.0 in ./opt/anaconda3/lib/python3.8/site-packages (from spotipy) (2.28.2)\n",
            "Requirement already satisfied: six>=1.15.0 in ./opt/anaconda3/lib/python3.8/site-packages (from spotipy) (1.15.0)\n",
            "Requirement already satisfied: async-timeout>=4.0.2 in ./opt/anaconda3/lib/python3.8/site-packages (from redis>=3.5.3->spotipy) (4.0.2)\n",
            "Requirement already satisfied: certifi>=2017.4.17 in ./opt/anaconda3/lib/python3.8/site-packages (from requests>=2.25.0->spotipy) (2020.6.20)\n",
            "Requirement already satisfied: idna<4,>=2.5 in ./opt/anaconda3/lib/python3.8/site-packages (from requests>=2.25.0->spotipy) (2.10)\n",
            "Requirement already satisfied: charset-normalizer<4,>=2 in ./opt/anaconda3/lib/python3.8/site-packages (from requests>=2.25.0->spotipy) (3.0.1)\n",
            "\n",
            "\u001b[1m[\u001b[0m\u001b[34;49mnotice\u001b[0m\u001b[1;39;49m]\u001b[0m\u001b[39;49m A new release of pip available: \u001b[0m\u001b[31;49m22.1.2\u001b[0m\u001b[39;49m -> \u001b[0m\u001b[32;49m23.0.1\u001b[0m\n",
            "\u001b[1m[\u001b[0m\u001b[34;49mnotice\u001b[0m\u001b[1;39;49m]\u001b[0m\u001b[39;49m To update, run: \u001b[0m\u001b[32;49m/Users/nandhinishankar/opt/anaconda3/bin/python -m pip install --upgrade pip\u001b[0m\n",
            "Note: you may need to restart the kernel to use updated packages.\n"
          ]
        }
      ],
      "source": [
        "pip install spotipy"
      ]
    },
    {
      "cell_type": "code",
      "execution_count": null,
      "metadata": {
        "id": "Wp36VHpxMuBo"
      },
      "outputs": [],
      "source": [
        "import json\n",
        "import time\n",
        "\n",
        "import spotipy\n",
        "from spotipy.oauth2 import SpotifyClientCredentials"
      ]
    },
    {
      "cell_type": "markdown",
      "metadata": {
        "id": "XKki1eXmMuBo"
      },
      "source": [
        "### Use the Billboard Hot 100's Playlist's URI"
      ]
    },
    {
      "cell_type": "code",
      "execution_count": null,
      "metadata": {
        "id": "TTXboJ4nMuBo"
      },
      "outputs": [],
      "source": [
        "client_id = '456b176f8e9246a0825ac0c4d9ec1f43'\n",
        "secret = '2ee5e41324c241299208a8b844ae6c7c'\n",
        "# playlist uri\n",
        "# from the 4th of February\n",
        "billboard_uri = 'spotify:playlist:6OML3vQZzyfYfeykXAiOGu'"
      ]
    },
    {
      "cell_type": "code",
      "execution_count": null,
      "metadata": {
        "id": "dc0VgRn3MuBo"
      },
      "outputs": [],
      "source": [
        "# using the 'client_id' and 'secret' variables for spotify client credentials\n",
        "# authenticating session\n",
        "client_credentials_manager = SpotifyClientCredentials(client_id=client_id,client_secret=secret)\n",
        "\n",
        "# create spotify session object\n",
        "sp = spotipy.Spotify(client_credentials_manager=client_credentials_manager)"
      ]
    },
    {
      "cell_type": "markdown",
      "metadata": {
        "id": "q13Bo_SlMuBp"
      },
      "source": [
        "## Data Scraping"
      ]
    },
    {
      "cell_type": "code",
      "execution_count": null,
      "metadata": {
        "id": "7kFJ38iTMuBp",
        "outputId": "e5cf4a23-5fff-4840-9284-0818dcc0c519"
      },
      "outputs": [
        {
          "name": "stderr",
          "output_type": "stream",
          "text": [
            "Couldn't read cache at: .cache\n",
            "Couldn't write token to cache at: .cache\n"
          ]
        }
      ],
      "source": [
        "billboard_tracks = sp.playlist(billboard_uri)"
      ]
    },
    {
      "cell_type": "code",
      "execution_count": null,
      "metadata": {
        "id": "zL7Erg5vMuBp",
        "outputId": "6417a63f-b69e-4bfe-e012-af3b18c0e617"
      },
      "outputs": [
        {
          "data": {
            "text/plain": [
              "{'album': {'album_type': 'single',\n",
              "  'artists': [{'external_urls': {'spotify': 'https://open.spotify.com/artist/5YGY8feqx7naU7z4HrwZM6'},\n",
              "    'href': 'https://api.spotify.com/v1/artists/5YGY8feqx7naU7z4HrwZM6',\n",
              "    'id': '5YGY8feqx7naU7z4HrwZM6',\n",
              "    'name': 'Miley Cyrus',\n",
              "    'type': 'artist',\n",
              "    'uri': 'spotify:artist:5YGY8feqx7naU7z4HrwZM6'}],\n",
              "  'available_markets': ['AD',\n",
              "   'AE',\n",
              "   'AG',\n",
              "   'AL',\n",
              "   'AM',\n",
              "   'AO',\n",
              "   'AR',\n",
              "   'AT',\n",
              "   'AU',\n",
              "   'AZ',\n",
              "   'BA',\n",
              "   'BB',\n",
              "   'BD',\n",
              "   'BE',\n",
              "   'BF',\n",
              "   'BG',\n",
              "   'BH',\n",
              "   'BI',\n",
              "   'BJ',\n",
              "   'BN',\n",
              "   'BO',\n",
              "   'BR',\n",
              "   'BS',\n",
              "   'BT',\n",
              "   'BW',\n",
              "   'BY',\n",
              "   'BZ',\n",
              "   'CA',\n",
              "   'CD',\n",
              "   'CG',\n",
              "   'CH',\n",
              "   'CI',\n",
              "   'CL',\n",
              "   'CM',\n",
              "   'CO',\n",
              "   'CR',\n",
              "   'CV',\n",
              "   'CW',\n",
              "   'CY',\n",
              "   'CZ',\n",
              "   'DE',\n",
              "   'DJ',\n",
              "   'DK',\n",
              "   'DM',\n",
              "   'DO',\n",
              "   'DZ',\n",
              "   'EC',\n",
              "   'EE',\n",
              "   'EG',\n",
              "   'ES',\n",
              "   'FI',\n",
              "   'FJ',\n",
              "   'FM',\n",
              "   'FR',\n",
              "   'GA',\n",
              "   'GB',\n",
              "   'GD',\n",
              "   'GE',\n",
              "   'GH',\n",
              "   'GM',\n",
              "   'GN',\n",
              "   'GQ',\n",
              "   'GR',\n",
              "   'GT',\n",
              "   'GW',\n",
              "   'GY',\n",
              "   'HK',\n",
              "   'HN',\n",
              "   'HR',\n",
              "   'HT',\n",
              "   'HU',\n",
              "   'ID',\n",
              "   'IE',\n",
              "   'IL',\n",
              "   'IN',\n",
              "   'IQ',\n",
              "   'IS',\n",
              "   'IT',\n",
              "   'JM',\n",
              "   'JO',\n",
              "   'JP',\n",
              "   'KE',\n",
              "   'KG',\n",
              "   'KH',\n",
              "   'KI',\n",
              "   'KM',\n",
              "   'KN',\n",
              "   'KR',\n",
              "   'KW',\n",
              "   'KZ',\n",
              "   'LA',\n",
              "   'LB',\n",
              "   'LC',\n",
              "   'LI',\n",
              "   'LK',\n",
              "   'LR',\n",
              "   'LS',\n",
              "   'LT',\n",
              "   'LU',\n",
              "   'LV',\n",
              "   'LY',\n",
              "   'MA',\n",
              "   'MC',\n",
              "   'MD',\n",
              "   'ME',\n",
              "   'MG',\n",
              "   'MH',\n",
              "   'MK',\n",
              "   'ML',\n",
              "   'MN',\n",
              "   'MO',\n",
              "   'MR',\n",
              "   'MT',\n",
              "   'MU',\n",
              "   'MV',\n",
              "   'MW',\n",
              "   'MX',\n",
              "   'MY',\n",
              "   'MZ',\n",
              "   'NA',\n",
              "   'NE',\n",
              "   'NG',\n",
              "   'NI',\n",
              "   'NL',\n",
              "   'NO',\n",
              "   'NP',\n",
              "   'NR',\n",
              "   'NZ',\n",
              "   'OM',\n",
              "   'PA',\n",
              "   'PE',\n",
              "   'PG',\n",
              "   'PH',\n",
              "   'PK',\n",
              "   'PL',\n",
              "   'PS',\n",
              "   'PT',\n",
              "   'PW',\n",
              "   'PY',\n",
              "   'QA',\n",
              "   'RO',\n",
              "   'RS',\n",
              "   'RW',\n",
              "   'SA',\n",
              "   'SB',\n",
              "   'SC',\n",
              "   'SE',\n",
              "   'SG',\n",
              "   'SI',\n",
              "   'SK',\n",
              "   'SL',\n",
              "   'SM',\n",
              "   'SN',\n",
              "   'SR',\n",
              "   'ST',\n",
              "   'SV',\n",
              "   'SZ',\n",
              "   'TD',\n",
              "   'TG',\n",
              "   'TH',\n",
              "   'TJ',\n",
              "   'TL',\n",
              "   'TN',\n",
              "   'TO',\n",
              "   'TR',\n",
              "   'TT',\n",
              "   'TV',\n",
              "   'TW',\n",
              "   'TZ',\n",
              "   'UA',\n",
              "   'UG',\n",
              "   'US',\n",
              "   'UY',\n",
              "   'UZ',\n",
              "   'VC',\n",
              "   'VE',\n",
              "   'VN',\n",
              "   'VU',\n",
              "   'WS',\n",
              "   'XK',\n",
              "   'ZA',\n",
              "   'ZM',\n",
              "   'ZW'],\n",
              "  'external_urls': {'spotify': 'https://open.spotify.com/album/7I0tjwFtxUwBC1vgyeMAax'},\n",
              "  'href': 'https://api.spotify.com/v1/albums/7I0tjwFtxUwBC1vgyeMAax',\n",
              "  'id': '7I0tjwFtxUwBC1vgyeMAax',\n",
              "  'images': [{'height': 640,\n",
              "    'url': 'https://i.scdn.co/image/ab67616d0000b273f429549123dbe8552764ba1d',\n",
              "    'width': 640},\n",
              "   {'height': 300,\n",
              "    'url': 'https://i.scdn.co/image/ab67616d00001e02f429549123dbe8552764ba1d',\n",
              "    'width': 300},\n",
              "   {'height': 64,\n",
              "    'url': 'https://i.scdn.co/image/ab67616d00004851f429549123dbe8552764ba1d',\n",
              "    'width': 64}],\n",
              "  'name': 'Flowers',\n",
              "  'release_date': '2023-01-13',\n",
              "  'release_date_precision': 'day',\n",
              "  'total_tracks': 1,\n",
              "  'type': 'album',\n",
              "  'uri': 'spotify:album:7I0tjwFtxUwBC1vgyeMAax'},\n",
              " 'artists': [{'external_urls': {'spotify': 'https://open.spotify.com/artist/5YGY8feqx7naU7z4HrwZM6'},\n",
              "   'href': 'https://api.spotify.com/v1/artists/5YGY8feqx7naU7z4HrwZM6',\n",
              "   'id': '5YGY8feqx7naU7z4HrwZM6',\n",
              "   'name': 'Miley Cyrus',\n",
              "   'type': 'artist',\n",
              "   'uri': 'spotify:artist:5YGY8feqx7naU7z4HrwZM6'}],\n",
              " 'available_markets': ['AR',\n",
              "  'AU',\n",
              "  'AT',\n",
              "  'BE',\n",
              "  'BO',\n",
              "  'BR',\n",
              "  'BG',\n",
              "  'CA',\n",
              "  'CL',\n",
              "  'CO',\n",
              "  'CR',\n",
              "  'CY',\n",
              "  'CZ',\n",
              "  'DK',\n",
              "  'DO',\n",
              "  'DE',\n",
              "  'EC',\n",
              "  'EE',\n",
              "  'SV',\n",
              "  'FI',\n",
              "  'FR',\n",
              "  'GR',\n",
              "  'GT',\n",
              "  'HN',\n",
              "  'HK',\n",
              "  'HU',\n",
              "  'IS',\n",
              "  'IE',\n",
              "  'IT',\n",
              "  'LV',\n",
              "  'LT',\n",
              "  'LU',\n",
              "  'MY',\n",
              "  'MT',\n",
              "  'MX',\n",
              "  'NL',\n",
              "  'NZ',\n",
              "  'NI',\n",
              "  'NO',\n",
              "  'PA',\n",
              "  'PY',\n",
              "  'PE',\n",
              "  'PH',\n",
              "  'PL',\n",
              "  'PT',\n",
              "  'SG',\n",
              "  'SK',\n",
              "  'ES',\n",
              "  'SE',\n",
              "  'CH',\n",
              "  'TW',\n",
              "  'TR',\n",
              "  'UY',\n",
              "  'US',\n",
              "  'GB',\n",
              "  'AD',\n",
              "  'LI',\n",
              "  'MC',\n",
              "  'ID',\n",
              "  'JP',\n",
              "  'TH',\n",
              "  'VN',\n",
              "  'RO',\n",
              "  'IL',\n",
              "  'ZA',\n",
              "  'SA',\n",
              "  'AE',\n",
              "  'BH',\n",
              "  'QA',\n",
              "  'OM',\n",
              "  'KW',\n",
              "  'EG',\n",
              "  'MA',\n",
              "  'DZ',\n",
              "  'TN',\n",
              "  'LB',\n",
              "  'JO',\n",
              "  'PS',\n",
              "  'IN',\n",
              "  'BY',\n",
              "  'KZ',\n",
              "  'MD',\n",
              "  'UA',\n",
              "  'AL',\n",
              "  'BA',\n",
              "  'HR',\n",
              "  'ME',\n",
              "  'MK',\n",
              "  'RS',\n",
              "  'SI',\n",
              "  'KR',\n",
              "  'BD',\n",
              "  'PK',\n",
              "  'LK',\n",
              "  'GH',\n",
              "  'KE',\n",
              "  'NG',\n",
              "  'TZ',\n",
              "  'UG',\n",
              "  'AG',\n",
              "  'AM',\n",
              "  'BS',\n",
              "  'BB',\n",
              "  'BZ',\n",
              "  'BT',\n",
              "  'BW',\n",
              "  'BF',\n",
              "  'CV',\n",
              "  'CW',\n",
              "  'DM',\n",
              "  'FJ',\n",
              "  'GM',\n",
              "  'GE',\n",
              "  'GD',\n",
              "  'GW',\n",
              "  'GY',\n",
              "  'HT',\n",
              "  'JM',\n",
              "  'KI',\n",
              "  'LS',\n",
              "  'LR',\n",
              "  'MW',\n",
              "  'MV',\n",
              "  'ML',\n",
              "  'MH',\n",
              "  'FM',\n",
              "  'NA',\n",
              "  'NR',\n",
              "  'NE',\n",
              "  'PW',\n",
              "  'PG',\n",
              "  'WS',\n",
              "  'SM',\n",
              "  'ST',\n",
              "  'SN',\n",
              "  'SC',\n",
              "  'SL',\n",
              "  'SB',\n",
              "  'KN',\n",
              "  'LC',\n",
              "  'VC',\n",
              "  'SR',\n",
              "  'TL',\n",
              "  'TO',\n",
              "  'TT',\n",
              "  'TV',\n",
              "  'VU',\n",
              "  'AZ',\n",
              "  'BN',\n",
              "  'BI',\n",
              "  'KH',\n",
              "  'CM',\n",
              "  'TD',\n",
              "  'KM',\n",
              "  'GQ',\n",
              "  'SZ',\n",
              "  'GA',\n",
              "  'GN',\n",
              "  'KG',\n",
              "  'LA',\n",
              "  'MO',\n",
              "  'MR',\n",
              "  'MN',\n",
              "  'NP',\n",
              "  'RW',\n",
              "  'TG',\n",
              "  'UZ',\n",
              "  'ZW',\n",
              "  'BJ',\n",
              "  'MG',\n",
              "  'MU',\n",
              "  'MZ',\n",
              "  'AO',\n",
              "  'CI',\n",
              "  'DJ',\n",
              "  'ZM',\n",
              "  'CD',\n",
              "  'CG',\n",
              "  'IQ',\n",
              "  'LY',\n",
              "  'TJ',\n",
              "  'VE',\n",
              "  'ET',\n",
              "  'XK'],\n",
              " 'disc_number': 1,\n",
              " 'duration_ms': 200454,\n",
              " 'episode': False,\n",
              " 'explicit': False,\n",
              " 'external_ids': {'isrc': 'USSM12209777'},\n",
              " 'external_urls': {'spotify': 'https://open.spotify.com/track/0yLdNVWF3Srea0uzk55zFn'},\n",
              " 'href': 'https://api.spotify.com/v1/tracks/0yLdNVWF3Srea0uzk55zFn',\n",
              " 'id': '0yLdNVWF3Srea0uzk55zFn',\n",
              " 'is_local': False,\n",
              " 'name': 'Flowers',\n",
              " 'popularity': 100,\n",
              " 'preview_url': 'https://p.scdn.co/mp3-preview/9fbe346e805ed219204f53324f94557ab557b6d3?cid=456b176f8e9246a0825ac0c4d9ec1f43',\n",
              " 'track': True,\n",
              " 'track_number': 1,\n",
              " 'type': 'track',\n",
              " 'uri': 'spotify:track:0yLdNVWF3Srea0uzk55zFn'}"
            ]
          },
          "execution_count": 1906,
          "metadata": {},
          "output_type": "execute_result"
        }
      ],
      "source": [
        "# getting the first song from the Billboard Hot 100's list\n",
        "# prints out the details of the first song\n",
        "billboard_tracks['tracks']['items'][0]['track']"
      ]
    },
    {
      "cell_type": "markdown",
      "metadata": {
        "id": "dnDyShfsMuBp"
      },
      "source": [
        "Information we need\n",
        "1. Name (of the artist)\n",
        "2. Name of the song\n",
        "3. Id\n",
        "4. Popularity"
      ]
    },
    {
      "cell_type": "code",
      "execution_count": null,
      "metadata": {
        "id": "4tdz0lfuMuBq",
        "outputId": "56b745e2-fc5b-4ab2-b6ef-747b1b4e3ea8"
      },
      "outputs": [
        {
          "data": {
            "text/plain": [
              "'SZA'"
            ]
          },
          "execution_count": 1907,
          "metadata": {},
          "output_type": "execute_result"
        }
      ],
      "source": [
        "# retrieving the name of the artist\n",
        "billboard_tracks['tracks']['items'][1]['track']['artists'][0]['name']"
      ]
    },
    {
      "cell_type": "code",
      "execution_count": null,
      "metadata": {
        "id": "FND2xCCrMuBq",
        "outputId": "1fe657cb-66d6-4e28-b78d-89f6ba0a32f6"
      },
      "outputs": [
        {
          "data": {
            "text/plain": [
              "'Kill Bill'"
            ]
          },
          "execution_count": 1908,
          "metadata": {},
          "output_type": "execute_result"
        }
      ],
      "source": [
        "# retrieving the name of the song\n",
        "billboard_tracks['tracks']['items'][1]['track']['name']"
      ]
    },
    {
      "cell_type": "code",
      "execution_count": null,
      "metadata": {
        "id": "7Pn-bf5SMuBq",
        "outputId": "e883d73e-e4c3-4227-bc44-ed72db842328"
      },
      "outputs": [
        {
          "data": {
            "text/plain": [
              "'spotify:track:3OHfY25tqY28d16oZczHc8'"
            ]
          },
          "execution_count": 1909,
          "metadata": {},
          "output_type": "execute_result"
        }
      ],
      "source": [
        "# retrieving the uri of the song\n",
        "billboard_tracks['tracks']['items'][1]['track']['uri']"
      ]
    },
    {
      "cell_type": "code",
      "execution_count": null,
      "metadata": {
        "id": "UVNJzxx9MuBq",
        "outputId": "28995969-7a24-443e-a06f-06ebf70260a0"
      },
      "outputs": [
        {
          "data": {
            "text/plain": [
              "92"
            ]
          },
          "execution_count": 1910,
          "metadata": {},
          "output_type": "execute_result"
        }
      ],
      "source": [
        "# retrieving popularity of the song\n",
        "billboard_tracks['tracks']['items'][1]['track']['popularity']"
      ]
    },
    {
      "cell_type": "code",
      "execution_count": null,
      "metadata": {
        "id": "w2BaQxuBMuBr"
      },
      "outputs": [],
      "source": [
        "# creating lists for\n",
        "\n",
        "# Name of the artist\n",
        "artist_name = []\n",
        "\n",
        "# Name of the song\n",
        "song_name = []\n",
        "\n",
        "# Id/uri of the song\n",
        "song_id = []\n",
        "\n",
        "# Popularity of the song\n",
        "song_popularity = []\n"
      ]
    },
    {
      "cell_type": "markdown",
      "metadata": {
        "id": "s0qrKjDJMuBr"
      },
      "source": [
        "### Retrieve songs and song details from the Billboard Playlist"
      ]
    },
    {
      "cell_type": "code",
      "execution_count": null,
      "metadata": {
        "id": "fpxk_dCUMuBr"
      },
      "outputs": [],
      "source": [
        "# appending song details to each list\n",
        "for i,j in enumerate(billboard_tracks['tracks']['items']):\n",
        "    artist_name.append(j['track']['artists'][0]['name'])\n",
        "    song_name.append(j['track']['name'])\n",
        "    song_id.append(j['track']['uri'])\n",
        "    song_popularity.append(j['track']['popularity'])"
      ]
    },
    {
      "cell_type": "code",
      "execution_count": null,
      "metadata": {
        "id": "kW7yAuFpMuBr"
      },
      "outputs": [],
      "source": [
        "# adding lists to a data frame \n",
        "import pandas as pd\n",
        "\n",
        "billboard_df = pd.DataFrame({\"Artist\":artist_name, \"Song Title\": song_name, \"Song ID\": song_id, \n",
        "                             \"Song Popularity\": song_popularity})"
      ]
    },
    {
      "cell_type": "code",
      "execution_count": null,
      "metadata": {
        "id": "nFtgZVPYMuBr",
        "outputId": "6c76255f-987d-4c5c-bdd3-aa7f9615ff98"
      },
      "outputs": [
        {
          "data": {
            "text/html": [
              "<div>\n",
              "<style scoped>\n",
              "    .dataframe tbody tr th:only-of-type {\n",
              "        vertical-align: middle;\n",
              "    }\n",
              "\n",
              "    .dataframe tbody tr th {\n",
              "        vertical-align: top;\n",
              "    }\n",
              "\n",
              "    .dataframe thead th {\n",
              "        text-align: right;\n",
              "    }\n",
              "</style>\n",
              "<table border=\"1\" class=\"dataframe\">\n",
              "  <thead>\n",
              "    <tr style=\"text-align: right;\">\n",
              "      <th></th>\n",
              "      <th>Artist</th>\n",
              "      <th>Song Title</th>\n",
              "      <th>Song ID</th>\n",
              "      <th>Song Popularity</th>\n",
              "    </tr>\n",
              "  </thead>\n",
              "  <tbody>\n",
              "    <tr>\n",
              "      <th>0</th>\n",
              "      <td>Miley Cyrus</td>\n",
              "      <td>Flowers</td>\n",
              "      <td>spotify:track:0yLdNVWF3Srea0uzk55zFn</td>\n",
              "      <td>100</td>\n",
              "    </tr>\n",
              "    <tr>\n",
              "      <th>1</th>\n",
              "      <td>SZA</td>\n",
              "      <td>Kill Bill</td>\n",
              "      <td>spotify:track:3OHfY25tqY28d16oZczHc8</td>\n",
              "      <td>92</td>\n",
              "    </tr>\n",
              "    <tr>\n",
              "      <th>2</th>\n",
              "      <td>Metro Boomin</td>\n",
              "      <td>Creepin' (with The Weeknd &amp; 21 Savage)</td>\n",
              "      <td>spotify:track:2dHHgzDwk4BJdRwy9uXhTO</td>\n",
              "      <td>94</td>\n",
              "    </tr>\n",
              "    <tr>\n",
              "      <th>3</th>\n",
              "      <td>PinkPantheress</td>\n",
              "      <td>Boy's a liar Pt. 2</td>\n",
              "      <td>spotify:track:6AQbmUe0Qwf5PZnt4HmTXv</td>\n",
              "      <td>93</td>\n",
              "    </tr>\n",
              "    <tr>\n",
              "      <th>4</th>\n",
              "      <td>Morgan Wallen</td>\n",
              "      <td>Last Night</td>\n",
              "      <td>spotify:track:59uQI0PADDKeE6UZDTJEe8</td>\n",
              "      <td>87</td>\n",
              "    </tr>\n",
              "  </tbody>\n",
              "</table>\n",
              "</div>"
            ],
            "text/plain": [
              "           Artist                              Song Title  \\\n",
              "0     Miley Cyrus                                 Flowers   \n",
              "1             SZA                               Kill Bill   \n",
              "2    Metro Boomin  Creepin' (with The Weeknd & 21 Savage)   \n",
              "3  PinkPantheress                      Boy's a liar Pt. 2   \n",
              "4   Morgan Wallen                              Last Night   \n",
              "\n",
              "                                Song ID  Song Popularity  \n",
              "0  spotify:track:0yLdNVWF3Srea0uzk55zFn              100  \n",
              "1  spotify:track:3OHfY25tqY28d16oZczHc8               92  \n",
              "2  spotify:track:2dHHgzDwk4BJdRwy9uXhTO               94  \n",
              "3  spotify:track:6AQbmUe0Qwf5PZnt4HmTXv               93  \n",
              "4  spotify:track:59uQI0PADDKeE6UZDTJEe8               87  "
            ]
          },
          "execution_count": 1914,
          "metadata": {},
          "output_type": "execute_result"
        }
      ],
      "source": [
        "billboard_df.head()"
      ]
    },
    {
      "cell_type": "code",
      "execution_count": null,
      "metadata": {
        "id": "06I38l4TMuBr",
        "outputId": "26dd388c-374f-4c39-f75a-9a296d2e53b7"
      },
      "outputs": [
        {
          "name": "stderr",
          "output_type": "stream",
          "text": [
            "Couldn't read cache at: .cache\n",
            "Couldn't write token to cache at: .cache\n"
          ]
        },
        {
          "data": {
            "text/plain": [
              "[{'danceability': 0.707,\n",
              "  'energy': 0.681,\n",
              "  'key': 0,\n",
              "  'loudness': -4.325,\n",
              "  'mode': 1,\n",
              "  'speechiness': 0.0668,\n",
              "  'acousticness': 0.0632,\n",
              "  'instrumentalness': 5.15e-06,\n",
              "  'liveness': 0.0322,\n",
              "  'valence': 0.646,\n",
              "  'tempo': 117.999,\n",
              "  'type': 'audio_features',\n",
              "  'id': '0yLdNVWF3Srea0uzk55zFn',\n",
              "  'uri': 'spotify:track:0yLdNVWF3Srea0uzk55zFn',\n",
              "  'track_href': 'https://api.spotify.com/v1/tracks/0yLdNVWF3Srea0uzk55zFn',\n",
              "  'analysis_url': 'https://api.spotify.com/v1/audio-analysis/0yLdNVWF3Srea0uzk55zFn',\n",
              "  'duration_ms': 200455,\n",
              "  'time_signature': 4}]"
            ]
          },
          "execution_count": 1915,
          "metadata": {},
          "output_type": "execute_result"
        }
      ],
      "source": [
        "# we can extract the audio features of the first track\n",
        "# using audio_features\n",
        "# the first track on this list is Flowers by Miley Cyrus\n",
        "sp.audio_features(billboard_df['Song ID'][0])"
      ]
    },
    {
      "cell_type": "markdown",
      "metadata": {
        "id": "g3FMlyr6MuBs"
      },
      "source": [
        "Important Features of a track that I want to use for this analysis:\n",
        "\n",
        "1. Danceability: How suitable is this track for dancing? Would you play it at max volumne at the club?\n",
        "\n",
        "2. Energy: Measured on a scale of 0.0 - 1.0. Energetic tracks feel fast, loud, and noisy. \n",
        "\n",
        "3. Key: The key the track is in. Integers map to pitches using standard Pitch Class notation. E.g. 0 = C, 1 = C♯/D♭, 2 = D, and so on. If no key was detected, the value is -1. >= -1 <= 11\n",
        "\n",
        "3. Loudness: The overall loudness of a track in decibels (dB).Values typically range between -60 and 0 db.\n",
        "\n",
        "4. Speechiness: Detects the presence of spoken words. For example, if it's a podcast recording, there are more spoken words and the value would be closer to 1.0. If it's between 0.33 - 0.66, the tracks contain both music and speech. This tends to be the case for rap music. If it's less than 0.33, the tracks tend to have more music and less speech.\n",
        "\n",
        "5. Acousticness: A confidence measure from 0.0 to 1.0 of whether the track is acoustic.\n",
        "\n",
        "6. Instrumentalness: Predicts whether a track contains no vocals. \"Ooh\" and \"aah\" sounds are treated as instrumental in this context. Rap or spoken word tracks are clearly \"vocal\". The closer the instrumentalness value is to 1.0, the greater likelihood the track contains no vocal content. \n",
        "\n",
        "7. Liveness: Detects the presence of an audience in the recording. Higher liveness values represent an increased probability that the track was performed live. A value above 0.8 provides strong likelihood that the track is live.\n",
        "\n",
        "8. Valence: A measure from 0.0 to 1.0 describing the musical positiveness conveyed by a track. Tracks with high valence sound more positive (e.g. happy, cheerful, euphoric), while tracks with low valence sound more negative (e.g. sad, depressed, angry).\n",
        "\n",
        "9. Tempo: The overall estimated tempo of a track in beats per minute (BPM). In musical terminology, tempo is the speed or pace of a given piece and derives directly from the average beat duration.\n",
        "\n",
        "10. Duration_ms: Duration in milliseconds. \n",
        "\n",
        "11. time_signature: An estimated time signature. The time signature (meter) is a notational convention to specify how many beats are in each bar (or measure). The time signature ranges from 3 to 7 indicating time signatures of \"3/4\", to \"7/4\". >= 3<= 7"
      ]
    },
    {
      "cell_type": "markdown",
      "metadata": {
        "id": "mKlDZBJaMuBs"
      },
      "source": [
        "### Scraping audio features for all songs"
      ]
    },
    {
      "cell_type": "code",
      "execution_count": null,
      "metadata": {
        "id": "RHXRP9__MuBt"
      },
      "outputs": [],
      "source": [
        "# creating lists for the different audio features we need\n",
        "danceability = []\n",
        "energy = []\n",
        "key = []\n",
        "loudness = []\n",
        "mode = []\n",
        "speechiness =[]\n",
        "acousticness = []\n",
        "instrumentalness = []\n",
        "liveness = []\n",
        "valence = []\n",
        "tempo = []\n",
        "duration = []\n",
        "timesignature = []"
      ]
    },
    {
      "cell_type": "code",
      "execution_count": null,
      "metadata": {
        "id": "2fnaZesyMuBt"
      },
      "outputs": [],
      "source": [
        "audio_features = {\n",
        "   'danceability': [],\n",
        "   'energy': [],\n",
        "    'key': [],\n",
        "   'loudness': [],\n",
        "    'mode': [],\n",
        "    'speechiness': [],\n",
        "   'acousticness': [],\n",
        "   'instrumentalness': [],\n",
        "    'liveness': [],\n",
        "   'valence': [],\n",
        "   'tempo': [],\n",
        "    'duration': [],\n",
        "    'time signature': []\n",
        "}\n"
      ]
    },
    {
      "cell_type": "code",
      "execution_count": null,
      "metadata": {
        "id": "BTvmhYb_MuBu",
        "outputId": "1dc957e9-3720-43fc-db53-495d2372b760"
      },
      "outputs": [
        {
          "name": "stderr",
          "output_type": "stream",
          "text": [
            "Couldn't read cache at: .cache\n",
            "Couldn't write token to cache at: .cache\n",
            "Couldn't read cache at: .cache\n",
            "Couldn't write token to cache at: .cache\n",
            "Couldn't read cache at: .cache\n",
            "Couldn't write token to cache at: .cache\n",
            "Couldn't read cache at: .cache\n",
            "Couldn't write token to cache at: .cache\n",
            "Couldn't read cache at: .cache\n",
            "Couldn't write token to cache at: .cache\n",
            "Couldn't read cache at: .cache\n",
            "Couldn't write token to cache at: .cache\n",
            "Couldn't read cache at: .cache\n",
            "Couldn't write token to cache at: .cache\n",
            "Couldn't read cache at: .cache\n",
            "Couldn't write token to cache at: .cache\n",
            "Couldn't read cache at: .cache\n",
            "Couldn't write token to cache at: .cache\n",
            "Couldn't read cache at: .cache\n",
            "Couldn't write token to cache at: .cache\n",
            "Couldn't read cache at: .cache\n",
            "Couldn't write token to cache at: .cache\n",
            "Couldn't read cache at: .cache\n",
            "Couldn't write token to cache at: .cache\n",
            "Couldn't read cache at: .cache\n",
            "Couldn't write token to cache at: .cache\n",
            "Couldn't read cache at: .cache\n",
            "Couldn't write token to cache at: .cache\n",
            "Couldn't read cache at: .cache\n",
            "Couldn't write token to cache at: .cache\n",
            "Couldn't read cache at: .cache\n",
            "Couldn't write token to cache at: .cache\n",
            "Couldn't read cache at: .cache\n",
            "Couldn't write token to cache at: .cache\n",
            "Couldn't read cache at: .cache\n",
            "Couldn't write token to cache at: .cache\n",
            "Couldn't read cache at: .cache\n",
            "Couldn't write token to cache at: .cache\n",
            "Couldn't read cache at: .cache\n",
            "Couldn't write token to cache at: .cache\n",
            "Couldn't read cache at: .cache\n",
            "Couldn't write token to cache at: .cache\n",
            "Couldn't read cache at: .cache\n",
            "Couldn't write token to cache at: .cache\n",
            "Couldn't read cache at: .cache\n",
            "Couldn't write token to cache at: .cache\n",
            "Couldn't read cache at: .cache\n",
            "Couldn't write token to cache at: .cache\n",
            "Couldn't read cache at: .cache\n",
            "Couldn't write token to cache at: .cache\n",
            "Couldn't read cache at: .cache\n",
            "Couldn't write token to cache at: .cache\n",
            "Couldn't read cache at: .cache\n",
            "Couldn't write token to cache at: .cache\n",
            "Couldn't read cache at: .cache\n",
            "Couldn't write token to cache at: .cache\n",
            "Couldn't read cache at: .cache\n",
            "Couldn't write token to cache at: .cache\n",
            "Couldn't read cache at: .cache\n",
            "Couldn't write token to cache at: .cache\n",
            "Couldn't read cache at: .cache\n",
            "Couldn't write token to cache at: .cache\n",
            "Couldn't read cache at: .cache\n",
            "Couldn't write token to cache at: .cache\n",
            "Couldn't read cache at: .cache\n",
            "Couldn't write token to cache at: .cache\n",
            "Couldn't read cache at: .cache\n",
            "Couldn't write token to cache at: .cache\n",
            "Couldn't read cache at: .cache\n",
            "Couldn't write token to cache at: .cache\n",
            "Couldn't read cache at: .cache\n",
            "Couldn't write token to cache at: .cache\n",
            "Couldn't read cache at: .cache\n",
            "Couldn't write token to cache at: .cache\n",
            "Couldn't read cache at: .cache\n",
            "Couldn't write token to cache at: .cache\n",
            "Couldn't read cache at: .cache\n",
            "Couldn't write token to cache at: .cache\n",
            "Couldn't read cache at: .cache\n",
            "Couldn't write token to cache at: .cache\n",
            "Couldn't read cache at: .cache\n",
            "Couldn't write token to cache at: .cache\n",
            "Couldn't read cache at: .cache\n",
            "Couldn't write token to cache at: .cache\n",
            "Couldn't read cache at: .cache\n",
            "Couldn't write token to cache at: .cache\n",
            "Couldn't read cache at: .cache\n",
            "Couldn't write token to cache at: .cache\n",
            "Couldn't read cache at: .cache\n",
            "Couldn't write token to cache at: .cache\n",
            "Couldn't read cache at: .cache\n",
            "Couldn't write token to cache at: .cache\n",
            "Couldn't read cache at: .cache\n",
            "Couldn't write token to cache at: .cache\n",
            "Couldn't read cache at: .cache\n",
            "Couldn't write token to cache at: .cache\n",
            "Couldn't read cache at: .cache\n",
            "Couldn't write token to cache at: .cache\n",
            "Couldn't read cache at: .cache\n",
            "Couldn't write token to cache at: .cache\n",
            "Couldn't read cache at: .cache\n",
            "Couldn't write token to cache at: .cache\n",
            "Couldn't read cache at: .cache\n",
            "Couldn't write token to cache at: .cache\n",
            "Couldn't read cache at: .cache\n",
            "Couldn't write token to cache at: .cache\n",
            "Couldn't read cache at: .cache\n",
            "Couldn't write token to cache at: .cache\n",
            "Couldn't read cache at: .cache\n",
            "Couldn't write token to cache at: .cache\n",
            "Couldn't read cache at: .cache\n",
            "Couldn't write token to cache at: .cache\n",
            "Couldn't read cache at: .cache\n",
            "Couldn't write token to cache at: .cache\n",
            "Couldn't read cache at: .cache\n",
            "Couldn't write token to cache at: .cache\n",
            "Couldn't read cache at: .cache\n",
            "Couldn't write token to cache at: .cache\n",
            "Couldn't read cache at: .cache\n",
            "Couldn't write token to cache at: .cache\n",
            "Couldn't read cache at: .cache\n",
            "Couldn't write token to cache at: .cache\n",
            "Couldn't read cache at: .cache\n",
            "Couldn't write token to cache at: .cache\n",
            "Couldn't read cache at: .cache\n",
            "Couldn't write token to cache at: .cache\n",
            "Couldn't read cache at: .cache\n",
            "Couldn't write token to cache at: .cache\n",
            "Couldn't read cache at: .cache\n",
            "Couldn't write token to cache at: .cache\n",
            "Couldn't read cache at: .cache\n",
            "Couldn't write token to cache at: .cache\n",
            "Couldn't read cache at: .cache\n",
            "Couldn't write token to cache at: .cache\n",
            "Couldn't read cache at: .cache\n",
            "Couldn't write token to cache at: .cache\n",
            "Couldn't read cache at: .cache\n",
            "Couldn't write token to cache at: .cache\n",
            "Couldn't read cache at: .cache\n",
            "Couldn't write token to cache at: .cache\n",
            "Couldn't read cache at: .cache\n",
            "Couldn't write token to cache at: .cache\n",
            "Couldn't read cache at: .cache\n",
            "Couldn't write token to cache at: .cache\n",
            "Couldn't read cache at: .cache\n",
            "Couldn't write token to cache at: .cache\n",
            "Couldn't read cache at: .cache\n",
            "Couldn't write token to cache at: .cache\n",
            "Couldn't read cache at: .cache\n",
            "Couldn't write token to cache at: .cache\n",
            "Couldn't read cache at: .cache\n",
            "Couldn't write token to cache at: .cache\n",
            "Couldn't read cache at: .cache\n",
            "Couldn't write token to cache at: .cache\n",
            "Couldn't read cache at: .cache\n",
            "Couldn't write token to cache at: .cache\n",
            "Couldn't read cache at: .cache\n",
            "Couldn't write token to cache at: .cache\n",
            "Couldn't read cache at: .cache\n",
            "Couldn't write token to cache at: .cache\n",
            "Couldn't read cache at: .cache\n",
            "Couldn't write token to cache at: .cache\n",
            "Couldn't read cache at: .cache\n",
            "Couldn't write token to cache at: .cache\n",
            "Couldn't read cache at: .cache\n",
            "Couldn't write token to cache at: .cache\n",
            "Couldn't read cache at: .cache\n",
            "Couldn't write token to cache at: .cache\n",
            "Couldn't read cache at: .cache\n",
            "Couldn't write token to cache at: .cache\n",
            "Couldn't read cache at: .cache\n",
            "Couldn't write token to cache at: .cache\n",
            "Couldn't read cache at: .cache\n",
            "Couldn't write token to cache at: .cache\n",
            "Couldn't read cache at: .cache\n",
            "Couldn't write token to cache at: .cache\n",
            "Couldn't read cache at: .cache\n",
            "Couldn't write token to cache at: .cache\n",
            "Couldn't read cache at: .cache\n",
            "Couldn't write token to cache at: .cache\n",
            "Couldn't read cache at: .cache\n",
            "Couldn't write token to cache at: .cache\n",
            "Couldn't read cache at: .cache\n",
            "Couldn't write token to cache at: .cache\n",
            "Couldn't read cache at: .cache\n",
            "Couldn't write token to cache at: .cache\n",
            "Couldn't read cache at: .cache\n",
            "Couldn't write token to cache at: .cache\n",
            "Couldn't read cache at: .cache\n",
            "Couldn't write token to cache at: .cache\n",
            "Couldn't read cache at: .cache\n",
            "Couldn't write token to cache at: .cache\n",
            "Couldn't read cache at: .cache\n",
            "Couldn't write token to cache at: .cache\n",
            "Couldn't read cache at: .cache\n",
            "Couldn't write token to cache at: .cache\n",
            "Couldn't read cache at: .cache\n",
            "Couldn't write token to cache at: .cache\n",
            "Couldn't read cache at: .cache\n",
            "Couldn't write token to cache at: .cache\n"
          ]
        }
      ],
      "source": [
        "entries = []\n",
        "# looping through tracks to extract the audio features for every song\n",
        "    \n",
        "for i,j in enumerate(billboard_df['Song ID']):\n",
        "    entries.append(sp.audio_features([j]))"
      ]
    },
    {
      "cell_type": "code",
      "execution_count": null,
      "metadata": {
        "id": "T7_2Q72HMuBu"
      },
      "outputs": [],
      "source": [
        "# appending audio features to each list\n",
        "for i,j in enumerate(entries):\n",
        "    audio_features['danceability'].append(j[0]['danceability'])\n",
        "    audio_features['energy'].append(j[0]['energy'])\n",
        "    audio_features['key'].append(j[0]['key'])\n",
        "    audio_features['loudness'].append(j[0]['loudness'])\n",
        "    audio_features['mode'].append(j[0]['mode'])\n",
        "    audio_features['speechiness'].append(j[0]['speechiness'])\n",
        "    audio_features['acousticness'].append(j[0]['acousticness'])\n",
        "    audio_features['instrumentalness'].append(j[0]['instrumentalness'])\n",
        "    audio_features['liveness'].append(j[0]['liveness'])\n",
        "    audio_features['valence'].append(j[0]['valence'])\n",
        "    audio_features['tempo'].append(j[0]['tempo'])\n",
        "    audio_features['duration'].append(j[0]['duration_ms'])\n",
        "    audio_features['time signature'].append(j[0]['time_signature'])"
      ]
    },
    {
      "cell_type": "code",
      "execution_count": null,
      "metadata": {
        "id": "ogy4GBclMuBv"
      },
      "outputs": [],
      "source": [
        "billboard_features = pd.DataFrame(audio_features)"
      ]
    },
    {
      "cell_type": "code",
      "execution_count": null,
      "metadata": {
        "id": "r92inr9jMuBw"
      },
      "outputs": [],
      "source": [
        "# Adding them to the billboard data frame\n",
        "billboard_df['danceability'] = audio_features['danceability']\n",
        "billboard_df['energy'] = audio_features['energy']\n",
        "billboard_df['key'] = audio_features['key']\n",
        "billboard_df['loudness'] = audio_features['loudness']\n",
        "billboard_df['mode'] = audio_features['mode']\n",
        "billboard_df['speechiness'] = audio_features['speechiness']\n",
        "billboard_df['acousticness'] = audio_features['acousticness']\n",
        "billboard_df['instrumentalness'] = audio_features['instrumentalness']\n",
        "billboard_df['liveness'] = audio_features['liveness']\n",
        "billboard_df['valence'] = audio_features['valence']\n",
        "billboard_df['tempo'] = audio_features['tempo']\n",
        "billboard_df['duration'] = audio_features['duration']\n",
        "billboard_df['time signature'] = audio_features['time signature']"
      ]
    },
    {
      "cell_type": "code",
      "execution_count": null,
      "metadata": {
        "id": "DtM9Osz-MuBw",
        "outputId": "860ec0a2-0d1d-4618-9d9b-21e3ed473503"
      },
      "outputs": [
        {
          "data": {
            "text/html": [
              "<div>\n",
              "<style scoped>\n",
              "    .dataframe tbody tr th:only-of-type {\n",
              "        vertical-align: middle;\n",
              "    }\n",
              "\n",
              "    .dataframe tbody tr th {\n",
              "        vertical-align: top;\n",
              "    }\n",
              "\n",
              "    .dataframe thead th {\n",
              "        text-align: right;\n",
              "    }\n",
              "</style>\n",
              "<table border=\"1\" class=\"dataframe\">\n",
              "  <thead>\n",
              "    <tr style=\"text-align: right;\">\n",
              "      <th></th>\n",
              "      <th>Artist</th>\n",
              "      <th>Song Title</th>\n",
              "      <th>Song ID</th>\n",
              "      <th>Song Popularity</th>\n",
              "      <th>danceability</th>\n",
              "      <th>energy</th>\n",
              "      <th>key</th>\n",
              "      <th>loudness</th>\n",
              "      <th>mode</th>\n",
              "      <th>speechiness</th>\n",
              "      <th>acousticness</th>\n",
              "      <th>instrumentalness</th>\n",
              "      <th>liveness</th>\n",
              "      <th>valence</th>\n",
              "      <th>tempo</th>\n",
              "      <th>duration</th>\n",
              "      <th>time signature</th>\n",
              "    </tr>\n",
              "  </thead>\n",
              "  <tbody>\n",
              "    <tr>\n",
              "      <th>0</th>\n",
              "      <td>Miley Cyrus</td>\n",
              "      <td>Flowers</td>\n",
              "      <td>spotify:track:0yLdNVWF3Srea0uzk55zFn</td>\n",
              "      <td>100</td>\n",
              "      <td>0.707</td>\n",
              "      <td>0.681</td>\n",
              "      <td>0</td>\n",
              "      <td>-4.325</td>\n",
              "      <td>1</td>\n",
              "      <td>0.0668</td>\n",
              "      <td>0.0632</td>\n",
              "      <td>0.000005</td>\n",
              "      <td>0.0322</td>\n",
              "      <td>0.646</td>\n",
              "      <td>117.999</td>\n",
              "      <td>200455</td>\n",
              "      <td>4</td>\n",
              "    </tr>\n",
              "    <tr>\n",
              "      <th>1</th>\n",
              "      <td>SZA</td>\n",
              "      <td>Kill Bill</td>\n",
              "      <td>spotify:track:3OHfY25tqY28d16oZczHc8</td>\n",
              "      <td>92</td>\n",
              "      <td>0.644</td>\n",
              "      <td>0.728</td>\n",
              "      <td>8</td>\n",
              "      <td>-5.750</td>\n",
              "      <td>1</td>\n",
              "      <td>0.0351</td>\n",
              "      <td>0.0543</td>\n",
              "      <td>0.169000</td>\n",
              "      <td>0.1610</td>\n",
              "      <td>0.430</td>\n",
              "      <td>88.993</td>\n",
              "      <td>153947</td>\n",
              "      <td>4</td>\n",
              "    </tr>\n",
              "    <tr>\n",
              "      <th>2</th>\n",
              "      <td>Metro Boomin</td>\n",
              "      <td>Creepin' (with The Weeknd &amp; 21 Savage)</td>\n",
              "      <td>spotify:track:2dHHgzDwk4BJdRwy9uXhTO</td>\n",
              "      <td>94</td>\n",
              "      <td>0.715</td>\n",
              "      <td>0.620</td>\n",
              "      <td>1</td>\n",
              "      <td>-6.005</td>\n",
              "      <td>0</td>\n",
              "      <td>0.0484</td>\n",
              "      <td>0.4170</td>\n",
              "      <td>0.000000</td>\n",
              "      <td>0.0822</td>\n",
              "      <td>0.172</td>\n",
              "      <td>97.950</td>\n",
              "      <td>221520</td>\n",
              "      <td>4</td>\n",
              "    </tr>\n",
              "    <tr>\n",
              "      <th>3</th>\n",
              "      <td>PinkPantheress</td>\n",
              "      <td>Boy's a liar Pt. 2</td>\n",
              "      <td>spotify:track:6AQbmUe0Qwf5PZnt4HmTXv</td>\n",
              "      <td>93</td>\n",
              "      <td>0.696</td>\n",
              "      <td>0.809</td>\n",
              "      <td>5</td>\n",
              "      <td>-8.254</td>\n",
              "      <td>1</td>\n",
              "      <td>0.0500</td>\n",
              "      <td>0.2520</td>\n",
              "      <td>0.000128</td>\n",
              "      <td>0.2480</td>\n",
              "      <td>0.857</td>\n",
              "      <td>132.962</td>\n",
              "      <td>131013</td>\n",
              "      <td>4</td>\n",
              "    </tr>\n",
              "    <tr>\n",
              "      <th>4</th>\n",
              "      <td>Morgan Wallen</td>\n",
              "      <td>Last Night</td>\n",
              "      <td>spotify:track:59uQI0PADDKeE6UZDTJEe8</td>\n",
              "      <td>87</td>\n",
              "      <td>0.517</td>\n",
              "      <td>0.675</td>\n",
              "      <td>6</td>\n",
              "      <td>-5.382</td>\n",
              "      <td>1</td>\n",
              "      <td>0.0357</td>\n",
              "      <td>0.4590</td>\n",
              "      <td>0.000000</td>\n",
              "      <td>0.1510</td>\n",
              "      <td>0.518</td>\n",
              "      <td>203.853</td>\n",
              "      <td>163855</td>\n",
              "      <td>4</td>\n",
              "    </tr>\n",
              "    <tr>\n",
              "      <th>...</th>\n",
              "      <td>...</td>\n",
              "      <td>...</td>\n",
              "      <td>...</td>\n",
              "      <td>...</td>\n",
              "      <td>...</td>\n",
              "      <td>...</td>\n",
              "      <td>...</td>\n",
              "      <td>...</td>\n",
              "      <td>...</td>\n",
              "      <td>...</td>\n",
              "      <td>...</td>\n",
              "      <td>...</td>\n",
              "      <td>...</td>\n",
              "      <td>...</td>\n",
              "      <td>...</td>\n",
              "      <td>...</td>\n",
              "      <td>...</td>\n",
              "    </tr>\n",
              "    <tr>\n",
              "      <th>95</th>\n",
              "      <td>NLE Choppa</td>\n",
              "      <td>Slut Me Out</td>\n",
              "      <td>spotify:track:5BmB3OaQyYXCqRyN8iR2Yi</td>\n",
              "      <td>77</td>\n",
              "      <td>0.938</td>\n",
              "      <td>0.606</td>\n",
              "      <td>6</td>\n",
              "      <td>-6.396</td>\n",
              "      <td>0</td>\n",
              "      <td>0.4190</td>\n",
              "      <td>0.1170</td>\n",
              "      <td>0.000000</td>\n",
              "      <td>0.5280</td>\n",
              "      <td>0.706</td>\n",
              "      <td>121.108</td>\n",
              "      <td>123673</td>\n",
              "      <td>4</td>\n",
              "    </tr>\n",
              "    <tr>\n",
              "      <th>96</th>\n",
              "      <td>Arcángel</td>\n",
              "      <td>La Jumpa</td>\n",
              "      <td>spotify:track:5MxFWjuqQIsbNWbMdMdbli</td>\n",
              "      <td>87</td>\n",
              "      <td>0.713</td>\n",
              "      <td>0.703</td>\n",
              "      <td>8</td>\n",
              "      <td>-5.769</td>\n",
              "      <td>1</td>\n",
              "      <td>0.1940</td>\n",
              "      <td>0.2980</td>\n",
              "      <td>0.000000</td>\n",
              "      <td>0.3210</td>\n",
              "      <td>0.576</td>\n",
              "      <td>123.060</td>\n",
              "      <td>255693</td>\n",
              "      <td>4</td>\n",
              "    </tr>\n",
              "    <tr>\n",
              "      <th>97</th>\n",
              "      <td>Hotel Ugly</td>\n",
              "      <td>Shut up My Moms Calling</td>\n",
              "      <td>spotify:track:3hxIUxnT27p5WcmjGUXNwx</td>\n",
              "      <td>84</td>\n",
              "      <td>0.485</td>\n",
              "      <td>0.409</td>\n",
              "      <td>9</td>\n",
              "      <td>-10.711</td>\n",
              "      <td>0</td>\n",
              "      <td>0.1010</td>\n",
              "      <td>0.3250</td>\n",
              "      <td>0.000000</td>\n",
              "      <td>0.1030</td>\n",
              "      <td>0.376</td>\n",
              "      <td>138.419</td>\n",
              "      <td>164571</td>\n",
              "      <td>4</td>\n",
              "    </tr>\n",
              "    <tr>\n",
              "      <th>98</th>\n",
              "      <td>Dierks Bentley</td>\n",
              "      <td>Gold</td>\n",
              "      <td>spotify:track:4iy69rTUn8cAY8Q8q9vfOw</td>\n",
              "      <td>69</td>\n",
              "      <td>0.674</td>\n",
              "      <td>0.873</td>\n",
              "      <td>1</td>\n",
              "      <td>-4.256</td>\n",
              "      <td>1</td>\n",
              "      <td>0.0285</td>\n",
              "      <td>0.0482</td>\n",
              "      <td>0.000000</td>\n",
              "      <td>0.1800</td>\n",
              "      <td>0.946</td>\n",
              "      <td>115.010</td>\n",
              "      <td>167760</td>\n",
              "      <td>4</td>\n",
              "    </tr>\n",
              "    <tr>\n",
              "      <th>99</th>\n",
              "      <td>Finesse2tymes</td>\n",
              "      <td>Back End</td>\n",
              "      <td>spotify:track:1QrL8zd8MIrCiOPuj02dxC</td>\n",
              "      <td>54</td>\n",
              "      <td>0.880</td>\n",
              "      <td>0.746</td>\n",
              "      <td>10</td>\n",
              "      <td>-3.381</td>\n",
              "      <td>0</td>\n",
              "      <td>0.1240</td>\n",
              "      <td>0.0129</td>\n",
              "      <td>0.000000</td>\n",
              "      <td>0.1050</td>\n",
              "      <td>0.315</td>\n",
              "      <td>130.045</td>\n",
              "      <td>165479</td>\n",
              "      <td>4</td>\n",
              "    </tr>\n",
              "  </tbody>\n",
              "</table>\n",
              "<p>100 rows × 17 columns</p>\n",
              "</div>"
            ],
            "text/plain": [
              "            Artist                              Song Title  \\\n",
              "0      Miley Cyrus                                 Flowers   \n",
              "1              SZA                               Kill Bill   \n",
              "2     Metro Boomin  Creepin' (with The Weeknd & 21 Savage)   \n",
              "3   PinkPantheress                      Boy's a liar Pt. 2   \n",
              "4    Morgan Wallen                              Last Night   \n",
              "..             ...                                     ...   \n",
              "95      NLE Choppa                             Slut Me Out   \n",
              "96        Arcángel                                La Jumpa   \n",
              "97      Hotel Ugly                 Shut up My Moms Calling   \n",
              "98  Dierks Bentley                                    Gold   \n",
              "99   Finesse2tymes                                Back End   \n",
              "\n",
              "                                 Song ID  Song Popularity  danceability  \\\n",
              "0   spotify:track:0yLdNVWF3Srea0uzk55zFn              100         0.707   \n",
              "1   spotify:track:3OHfY25tqY28d16oZczHc8               92         0.644   \n",
              "2   spotify:track:2dHHgzDwk4BJdRwy9uXhTO               94         0.715   \n",
              "3   spotify:track:6AQbmUe0Qwf5PZnt4HmTXv               93         0.696   \n",
              "4   spotify:track:59uQI0PADDKeE6UZDTJEe8               87         0.517   \n",
              "..                                   ...              ...           ...   \n",
              "95  spotify:track:5BmB3OaQyYXCqRyN8iR2Yi               77         0.938   \n",
              "96  spotify:track:5MxFWjuqQIsbNWbMdMdbli               87         0.713   \n",
              "97  spotify:track:3hxIUxnT27p5WcmjGUXNwx               84         0.485   \n",
              "98  spotify:track:4iy69rTUn8cAY8Q8q9vfOw               69         0.674   \n",
              "99  spotify:track:1QrL8zd8MIrCiOPuj02dxC               54         0.880   \n",
              "\n",
              "    energy  key  loudness  mode  speechiness  acousticness  instrumentalness  \\\n",
              "0    0.681    0    -4.325     1       0.0668        0.0632          0.000005   \n",
              "1    0.728    8    -5.750     1       0.0351        0.0543          0.169000   \n",
              "2    0.620    1    -6.005     0       0.0484        0.4170          0.000000   \n",
              "3    0.809    5    -8.254     1       0.0500        0.2520          0.000128   \n",
              "4    0.675    6    -5.382     1       0.0357        0.4590          0.000000   \n",
              "..     ...  ...       ...   ...          ...           ...               ...   \n",
              "95   0.606    6    -6.396     0       0.4190        0.1170          0.000000   \n",
              "96   0.703    8    -5.769     1       0.1940        0.2980          0.000000   \n",
              "97   0.409    9   -10.711     0       0.1010        0.3250          0.000000   \n",
              "98   0.873    1    -4.256     1       0.0285        0.0482          0.000000   \n",
              "99   0.746   10    -3.381     0       0.1240        0.0129          0.000000   \n",
              "\n",
              "    liveness  valence    tempo  duration  time signature  \n",
              "0     0.0322    0.646  117.999    200455               4  \n",
              "1     0.1610    0.430   88.993    153947               4  \n",
              "2     0.0822    0.172   97.950    221520               4  \n",
              "3     0.2480    0.857  132.962    131013               4  \n",
              "4     0.1510    0.518  203.853    163855               4  \n",
              "..       ...      ...      ...       ...             ...  \n",
              "95    0.5280    0.706  121.108    123673               4  \n",
              "96    0.3210    0.576  123.060    255693               4  \n",
              "97    0.1030    0.376  138.419    164571               4  \n",
              "98    0.1800    0.946  115.010    167760               4  \n",
              "99    0.1050    0.315  130.045    165479               4  \n",
              "\n",
              "[100 rows x 17 columns]"
            ]
          },
          "execution_count": 1922,
          "metadata": {},
          "output_type": "execute_result"
        }
      ],
      "source": [
        "# Now we have all the data we need for the tracks from the Billboard Hot 100 Playlist \n",
        "billboard_df"
      ]
    },
    {
      "cell_type": "code",
      "execution_count": null,
      "metadata": {
        "id": "C4mOLxemMuBw",
        "outputId": "9b6b3586-e748-4173-aa75-66893f184a98"
      },
      "outputs": [
        {
          "name": "stdout",
          "output_type": "stream",
          "text": [
            "Artist              0\n",
            "Song Title          0\n",
            "Song ID             0\n",
            "Song Popularity     0\n",
            "danceability        0\n",
            "energy              0\n",
            "key                 0\n",
            "loudness            0\n",
            "mode                0\n",
            "speechiness         0\n",
            "acousticness        0\n",
            "instrumentalness    0\n",
            "liveness            0\n",
            "valence             0\n",
            "tempo               0\n",
            "duration            0\n",
            "time signature      0\n",
            "dtype: int64\n"
          ]
        }
      ],
      "source": [
        "# checking for null values\n",
        "billboard_na = billboard_df.isna().sum()\n",
        "# thankfully, there are no null values\n",
        "# I am extremely pleased\n",
        "print(billboard_na)"
      ]
    },
    {
      "cell_type": "markdown",
      "metadata": {
        "id": "i2FsmePRMuBw"
      },
      "source": [
        "## Exploratory Data Analysis"
      ]
    },
    {
      "cell_type": "markdown",
      "metadata": {
        "id": "0NMh9t8NMuBw"
      },
      "source": [
        "I want to see which artists are popular from the Billboard Hot 100 List. I would also like to create visualizations for the audio features of billboard hot 100's songs to get an idea of what the overall distribution looks like."
      ]
    },
    {
      "cell_type": "markdown",
      "metadata": {
        "id": "gfCPAj0SMuBx"
      },
      "source": [
        "### Top 10 streamed artists from the Billboard Hot 100"
      ]
    },
    {
      "cell_type": "code",
      "execution_count": null,
      "metadata": {
        "id": "pZnOwgB8MuBx",
        "outputId": "3821523b-8038-4d55-e614-dec430e90464"
      },
      "outputs": [
        {
          "data": {
            "text/plain": [
              "Text(0.5, 1.0, 'Top 10 Streamed Artists - Billboard Hot 100')"
            ]
          },
          "execution_count": 1924,
          "metadata": {},
          "output_type": "execute_result"
        },
        {
          "data": {
            "image/png": "[encoded data removed]",
            "text/plain": [
              "<Figure size 432x288 with 1 Axes>"
            ]
          },
          "metadata": {
            "needs_background": "light"
          },
          "output_type": "display_data"
        }
      ],
      "source": [
        "billboard_df['Artist'].value_counts().head(10).plot(kind='bar', color='green')\n",
        "plt.title('Top 10 Streamed Artists - Billboard Hot 100')"
      ]
    },
    {
      "cell_type": "markdown",
      "metadata": {
        "id": "55goHC9KMuBx"
      },
      "source": [
        "SZA and tops the list with 6 songs on the billboard hot 100, very impressive! Followed by Morgan Wallen with the same number of songs.  "
      ]
    },
    {
      "cell_type": "markdown",
      "metadata": {
        "id": "PGhaAdWpMuBx"
      },
      "source": [
        "### Overall Distribution of audio features "
      ]
    },
    {
      "cell_type": "code",
      "execution_count": null,
      "metadata": {
        "scrolled": false,
        "id": "7p3oiOs7MuBx",
        "outputId": "07df97c9-f580-48aa-ef42-4309c978571a"
      },
      "outputs": [
        {
          "name": "stderr",
          "output_type": "stream",
          "text": [
            "/Users/nandhinishankar/opt/anaconda3/lib/python3.8/site-packages/seaborn/distributions.py:2551: FutureWarning: `distplot` is a deprecated function and will be removed in a future version. Please adapt your code to use either `displot` (a figure-level function with similar flexibility) or `histplot` (an axes-level function for histograms).\n",
            "  warnings.warn(msg, FutureWarning)\n",
            "/Users/nandhinishankar/opt/anaconda3/lib/python3.8/site-packages/seaborn/distributions.py:2551: FutureWarning: `distplot` is a deprecated function and will be removed in a future version. Please adapt your code to use either `displot` (a figure-level function with similar flexibility) or `histplot` (an axes-level function for histograms).\n",
            "  warnings.warn(msg, FutureWarning)\n",
            "/Users/nandhinishankar/opt/anaconda3/lib/python3.8/site-packages/seaborn/distributions.py:2551: FutureWarning: `distplot` is a deprecated function and will be removed in a future version. Please adapt your code to use either `displot` (a figure-level function with similar flexibility) or `histplot` (an axes-level function for histograms).\n",
            "  warnings.warn(msg, FutureWarning)\n",
            "/Users/nandhinishankar/opt/anaconda3/lib/python3.8/site-packages/seaborn/distributions.py:2551: FutureWarning: `distplot` is a deprecated function and will be removed in a future version. Please adapt your code to use either `displot` (a figure-level function with similar flexibility) or `histplot` (an axes-level function for histograms).\n",
            "  warnings.warn(msg, FutureWarning)\n",
            "/Users/nandhinishankar/opt/anaconda3/lib/python3.8/site-packages/seaborn/distributions.py:2551: FutureWarning: `distplot` is a deprecated function and will be removed in a future version. Please adapt your code to use either `displot` (a figure-level function with similar flexibility) or `histplot` (an axes-level function for histograms).\n",
            "  warnings.warn(msg, FutureWarning)\n",
            "/Users/nandhinishankar/opt/anaconda3/lib/python3.8/site-packages/seaborn/distributions.py:2551: FutureWarning: `distplot` is a deprecated function and will be removed in a future version. Please adapt your code to use either `displot` (a figure-level function with similar flexibility) or `histplot` (an axes-level function for histograms).\n",
            "  warnings.warn(msg, FutureWarning)\n",
            "/Users/nandhinishankar/opt/anaconda3/lib/python3.8/site-packages/seaborn/distributions.py:2551: FutureWarning: `distplot` is a deprecated function and will be removed in a future version. Please adapt your code to use either `displot` (a figure-level function with similar flexibility) or `histplot` (an axes-level function for histograms).\n",
            "  warnings.warn(msg, FutureWarning)\n",
            "/Users/nandhinishankar/opt/anaconda3/lib/python3.8/site-packages/seaborn/distributions.py:2551: FutureWarning: `distplot` is a deprecated function and will be removed in a future version. Please adapt your code to use either `displot` (a figure-level function with similar flexibility) or `histplot` (an axes-level function for histograms).\n",
            "  warnings.warn(msg, FutureWarning)\n",
            "/Users/nandhinishankar/opt/anaconda3/lib/python3.8/site-packages/seaborn/distributions.py:2551: FutureWarning: `distplot` is a deprecated function and will be removed in a future version. Please adapt your code to use either `displot` (a figure-level function with similar flexibility) or `histplot` (an axes-level function for histograms).\n",
            "  warnings.warn(msg, FutureWarning)\n",
            "/Users/nandhinishankar/opt/anaconda3/lib/python3.8/site-packages/seaborn/distributions.py:2551: FutureWarning: `distplot` is a deprecated function and will be removed in a future version. Please adapt your code to use either `displot` (a figure-level function with similar flexibility) or `histplot` (an axes-level function for histograms).\n",
            "  warnings.warn(msg, FutureWarning)\n",
            "/Users/nandhinishankar/opt/anaconda3/lib/python3.8/site-packages/seaborn/distributions.py:2551: FutureWarning: `distplot` is a deprecated function and will be removed in a future version. Please adapt your code to use either `displot` (a figure-level function with similar flexibility) or `histplot` (an axes-level function for histograms).\n",
            "  warnings.warn(msg, FutureWarning)\n",
            "/Users/nandhinishankar/opt/anaconda3/lib/python3.8/site-packages/seaborn/distributions.py:2551: FutureWarning: `distplot` is a deprecated function and will be removed in a future version. Please adapt your code to use either `displot` (a figure-level function with similar flexibility) or `histplot` (an axes-level function for histograms).\n",
            "  warnings.warn(msg, FutureWarning)\n"
          ]
        },
        {
          "data": {
            "image/png": "[encoded data removed]",
            "text/plain": [
              "<Figure size 1440x720 with 11 Axes>"
            ]
          },
          "metadata": {
            "needs_background": "light"
          },
          "output_type": "display_data"
        }
      ],
      "source": [
        "# Import seaborn\n",
        "import seaborn as sns\n",
        "import matplotlib.pyplot as plt\n",
        "\n",
        "# Features distribution\n",
        "f, axes = plt.subplots(2, 6, figsize=(20, 10))\n",
        "\n",
        "# Adjust the subplot layout parameters\n",
        "f.subplots_adjust(hspace=0.3, wspace=0.4)\n",
        "\n",
        "sns.distplot( billboard_df['danceability'], color=\"green\", ax=axes[0, 0])\n",
        "sns.distplot( billboard_df['energy'], color=\"green\", ax=axes[0, 1])\n",
        "sns.distplot( billboard_df['key'], color=\"green\", ax=axes[0, 2])\n",
        "sns.distplot( billboard_df['loudness'], color=\"green\", ax=axes[0, 3])\n",
        "sns.distplot( billboard_df['speechiness'], color=\"green\", ax=axes[0, 4])\n",
        "sns.distplot( billboard_df['acousticness'], color=\"green\", ax=axes[0, 5])\n",
        "sns.distplot( billboard_df['instrumentalness'], color=\"green\", ax=axes[1, 0])\n",
        "sns.distplot( billboard_df['liveness'], color=\"green\", ax=axes[1, 1])\n",
        "sns.distplot( billboard_df['valence'], color=\"green\", ax=axes[1, 2])\n",
        "sns.distplot( billboard_df['tempo'], color=\"green\", ax=axes[1, 3])\n",
        "sns.distplot( billboard_df['duration'], color=\"green\", ax=axes[1, 4])\n",
        "sns.distplot( billboard_df['time signature'], color=\"green\", ax=axes[1, 5])\n",
        "\n",
        "f.delaxes(axes[1][3])\n",
        "plt.show()"
      ]
    },
    {
      "cell_type": "markdown",
      "metadata": {
        "id": "zwl2HcJUMuBx"
      },
      "source": [
        "We can see the distribution of the scores of audio features from the plots that were generated. Features like danceability, energy, tempo, valence, and duration seem to follow normal distributions. \n",
        "\n",
        "These audio features are relevant when it comes to mainstream pop music. \n",
        "\n",
        "There seems to be a slight negative skew for the loudness graph.  \n",
        "\n",
        "From the liveness graph, we can see that the range of values is 0 - 0.75\n",
        "Liveness detects the presence of an audience, if it's above 0.8, there is a high possiblity that it was a live performance. Songs that chart on the billboard list tend to be studio recorded versions. So this is expected. \n",
        "\n",
        "From the duration graph, we can see that the mean duration is around 200,000 ms which is 3.3 minutes. \n",
        "Radio stations want songs to be short so they can play more advertisements. Most artists are encouraged to release tracks that are between 3 minutes and 3 minutes 30 seconds. \n",
        "\n",
        "We can see that most values for speechiness fall between 0 and 0.2, if the value is less than 0.3, this means a song has more music and less words. This isn't surprising, most songs on the Billboard Hot 100 list tend to be more music based. \n",
        "\n",
        "We can also see that most songs have a time signature of 4."
      ]
    },
    {
      "cell_type": "markdown",
      "metadata": {
        "id": "Z_nWc5H0MuBx"
      },
      "source": [
        "### Correlation Analysis "
      ]
    },
    {
      "cell_type": "markdown",
      "metadata": {
        "id": "AB7oDBssMuBy"
      },
      "source": [
        "This can help us determine if there is a strong correlation between different audio features. Are these variables strongly correlated? Let's examine the relationships visually. "
      ]
    },
    {
      "cell_type": "code",
      "execution_count": null,
      "metadata": {
        "id": "l8R-e-JiMuBy",
        "outputId": "0934f0f1-b8eb-4bb5-c39d-4e1f5682e484"
      },
      "outputs": [
        {
          "data": {
            "text/html": [
              "<div>\n",
              "<style scoped>\n",
              "    .dataframe tbody tr th:only-of-type {\n",
              "        vertical-align: middle;\n",
              "    }\n",
              "\n",
              "    .dataframe tbody tr th {\n",
              "        vertical-align: top;\n",
              "    }\n",
              "\n",
              "    .dataframe thead th {\n",
              "        text-align: right;\n",
              "    }\n",
              "</style>\n",
              "<table border=\"1\" class=\"dataframe\">\n",
              "  <thead>\n",
              "    <tr style=\"text-align: right;\">\n",
              "      <th></th>\n",
              "      <th>Song Popularity</th>\n",
              "      <th>danceability</th>\n",
              "      <th>energy</th>\n",
              "      <th>key</th>\n",
              "      <th>loudness</th>\n",
              "      <th>mode</th>\n",
              "      <th>speechiness</th>\n",
              "      <th>acousticness</th>\n",
              "      <th>instrumentalness</th>\n",
              "      <th>liveness</th>\n",
              "      <th>valence</th>\n",
              "      <th>tempo</th>\n",
              "      <th>duration</th>\n",
              "      <th>time signature</th>\n",
              "    </tr>\n",
              "  </thead>\n",
              "  <tbody>\n",
              "    <tr>\n",
              "      <th>Song Popularity</th>\n",
              "      <td>1.000000</td>\n",
              "      <td>0.094587</td>\n",
              "      <td>-0.042630</td>\n",
              "      <td>0.118154</td>\n",
              "      <td>-0.075572</td>\n",
              "      <td>-0.126709</td>\n",
              "      <td>-0.012346</td>\n",
              "      <td>0.002147</td>\n",
              "      <td>-0.251602</td>\n",
              "      <td>-0.046249</td>\n",
              "      <td>0.110142</td>\n",
              "      <td>0.168189</td>\n",
              "      <td>-0.015823</td>\n",
              "      <td>0.137885</td>\n",
              "    </tr>\n",
              "    <tr>\n",
              "      <th>danceability</th>\n",
              "      <td>0.094587</td>\n",
              "      <td>1.000000</td>\n",
              "      <td>0.262169</td>\n",
              "      <td>0.029301</td>\n",
              "      <td>0.172135</td>\n",
              "      <td>-0.242290</td>\n",
              "      <td>0.272745</td>\n",
              "      <td>-0.317374</td>\n",
              "      <td>-0.034127</td>\n",
              "      <td>-0.042827</td>\n",
              "      <td>0.433881</td>\n",
              "      <td>-0.132168</td>\n",
              "      <td>-0.271103</td>\n",
              "      <td>0.292509</td>\n",
              "    </tr>\n",
              "    <tr>\n",
              "      <th>energy</th>\n",
              "      <td>-0.042630</td>\n",
              "      <td>0.262169</td>\n",
              "      <td>1.000000</td>\n",
              "      <td>-0.002135</td>\n",
              "      <td>0.758051</td>\n",
              "      <td>0.105566</td>\n",
              "      <td>-0.029890</td>\n",
              "      <td>-0.553100</td>\n",
              "      <td>0.070456</td>\n",
              "      <td>0.195744</td>\n",
              "      <td>0.470219</td>\n",
              "      <td>-0.001070</td>\n",
              "      <td>0.031674</td>\n",
              "      <td>0.261228</td>\n",
              "    </tr>\n",
              "    <tr>\n",
              "      <th>key</th>\n",
              "      <td>0.118154</td>\n",
              "      <td>0.029301</td>\n",
              "      <td>-0.002135</td>\n",
              "      <td>1.000000</td>\n",
              "      <td>-0.066843</td>\n",
              "      <td>-0.100958</td>\n",
              "      <td>-0.184268</td>\n",
              "      <td>-0.073301</td>\n",
              "      <td>0.011360</td>\n",
              "      <td>0.112949</td>\n",
              "      <td>0.045025</td>\n",
              "      <td>0.033708</td>\n",
              "      <td>-0.197710</td>\n",
              "      <td>-0.093904</td>\n",
              "    </tr>\n",
              "    <tr>\n",
              "      <th>loudness</th>\n",
              "      <td>-0.075572</td>\n",
              "      <td>0.172135</td>\n",
              "      <td>0.758051</td>\n",
              "      <td>-0.066843</td>\n",
              "      <td>1.000000</td>\n",
              "      <td>0.176343</td>\n",
              "      <td>-0.065310</td>\n",
              "      <td>-0.351739</td>\n",
              "      <td>0.036818</td>\n",
              "      <td>0.042302</td>\n",
              "      <td>0.338226</td>\n",
              "      <td>0.033838</td>\n",
              "      <td>0.095026</td>\n",
              "      <td>0.257276</td>\n",
              "    </tr>\n",
              "    <tr>\n",
              "      <th>mode</th>\n",
              "      <td>-0.126709</td>\n",
              "      <td>-0.242290</td>\n",
              "      <td>0.105566</td>\n",
              "      <td>-0.100958</td>\n",
              "      <td>0.176343</td>\n",
              "      <td>1.000000</td>\n",
              "      <td>-0.227708</td>\n",
              "      <td>-0.001536</td>\n",
              "      <td>-0.111900</td>\n",
              "      <td>0.022936</td>\n",
              "      <td>0.052996</td>\n",
              "      <td>0.028166</td>\n",
              "      <td>0.052689</td>\n",
              "      <td>0.126886</td>\n",
              "    </tr>\n",
              "    <tr>\n",
              "      <th>speechiness</th>\n",
              "      <td>-0.012346</td>\n",
              "      <td>0.272745</td>\n",
              "      <td>-0.029890</td>\n",
              "      <td>-0.184268</td>\n",
              "      <td>-0.065310</td>\n",
              "      <td>-0.227708</td>\n",
              "      <td>1.000000</td>\n",
              "      <td>-0.116297</td>\n",
              "      <td>-0.101525</td>\n",
              "      <td>0.090106</td>\n",
              "      <td>0.046031</td>\n",
              "      <td>0.020845</td>\n",
              "      <td>-0.158128</td>\n",
              "      <td>0.056477</td>\n",
              "    </tr>\n",
              "    <tr>\n",
              "      <th>acousticness</th>\n",
              "      <td>0.002147</td>\n",
              "      <td>-0.317374</td>\n",
              "      <td>-0.553100</td>\n",
              "      <td>-0.073301</td>\n",
              "      <td>-0.351739</td>\n",
              "      <td>-0.001536</td>\n",
              "      <td>-0.116297</td>\n",
              "      <td>1.000000</td>\n",
              "      <td>0.025490</td>\n",
              "      <td>-0.089795</td>\n",
              "      <td>-0.204082</td>\n",
              "      <td>0.060466</td>\n",
              "      <td>-0.016040</td>\n",
              "      <td>-0.237518</td>\n",
              "    </tr>\n",
              "    <tr>\n",
              "      <th>instrumentalness</th>\n",
              "      <td>-0.251602</td>\n",
              "      <td>-0.034127</td>\n",
              "      <td>0.070456</td>\n",
              "      <td>0.011360</td>\n",
              "      <td>0.036818</td>\n",
              "      <td>-0.111900</td>\n",
              "      <td>-0.101525</td>\n",
              "      <td>0.025490</td>\n",
              "      <td>1.000000</td>\n",
              "      <td>0.017358</td>\n",
              "      <td>-0.146982</td>\n",
              "      <td>-0.158291</td>\n",
              "      <td>-0.091094</td>\n",
              "      <td>-0.120987</td>\n",
              "    </tr>\n",
              "    <tr>\n",
              "      <th>liveness</th>\n",
              "      <td>-0.046249</td>\n",
              "      <td>-0.042827</td>\n",
              "      <td>0.195744</td>\n",
              "      <td>0.112949</td>\n",
              "      <td>0.042302</td>\n",
              "      <td>0.022936</td>\n",
              "      <td>0.090106</td>\n",
              "      <td>-0.089795</td>\n",
              "      <td>0.017358</td>\n",
              "      <td>1.000000</td>\n",
              "      <td>0.111100</td>\n",
              "      <td>0.009637</td>\n",
              "      <td>-0.172730</td>\n",
              "      <td>-0.022646</td>\n",
              "    </tr>\n",
              "    <tr>\n",
              "      <th>valence</th>\n",
              "      <td>0.110142</td>\n",
              "      <td>0.433881</td>\n",
              "      <td>0.470219</td>\n",
              "      <td>0.045025</td>\n",
              "      <td>0.338226</td>\n",
              "      <td>0.052996</td>\n",
              "      <td>0.046031</td>\n",
              "      <td>-0.204082</td>\n",
              "      <td>-0.146982</td>\n",
              "      <td>0.111100</td>\n",
              "      <td>1.000000</td>\n",
              "      <td>0.142806</td>\n",
              "      <td>-0.173729</td>\n",
              "      <td>0.206339</td>\n",
              "    </tr>\n",
              "    <tr>\n",
              "      <th>tempo</th>\n",
              "      <td>0.168189</td>\n",
              "      <td>-0.132168</td>\n",
              "      <td>-0.001070</td>\n",
              "      <td>0.033708</td>\n",
              "      <td>0.033838</td>\n",
              "      <td>0.028166</td>\n",
              "      <td>0.020845</td>\n",
              "      <td>0.060466</td>\n",
              "      <td>-0.158291</td>\n",
              "      <td>0.009637</td>\n",
              "      <td>0.142806</td>\n",
              "      <td>1.000000</td>\n",
              "      <td>0.030401</td>\n",
              "      <td>0.004482</td>\n",
              "    </tr>\n",
              "    <tr>\n",
              "      <th>duration</th>\n",
              "      <td>-0.015823</td>\n",
              "      <td>-0.271103</td>\n",
              "      <td>0.031674</td>\n",
              "      <td>-0.197710</td>\n",
              "      <td>0.095026</td>\n",
              "      <td>0.052689</td>\n",
              "      <td>-0.158128</td>\n",
              "      <td>-0.016040</td>\n",
              "      <td>-0.091094</td>\n",
              "      <td>-0.172730</td>\n",
              "      <td>-0.173729</td>\n",
              "      <td>0.030401</td>\n",
              "      <td>1.000000</td>\n",
              "      <td>-0.103974</td>\n",
              "    </tr>\n",
              "    <tr>\n",
              "      <th>time signature</th>\n",
              "      <td>0.137885</td>\n",
              "      <td>0.292509</td>\n",
              "      <td>0.261228</td>\n",
              "      <td>-0.093904</td>\n",
              "      <td>0.257276</td>\n",
              "      <td>0.126886</td>\n",
              "      <td>0.056477</td>\n",
              "      <td>-0.237518</td>\n",
              "      <td>-0.120987</td>\n",
              "      <td>-0.022646</td>\n",
              "      <td>0.206339</td>\n",
              "      <td>0.004482</td>\n",
              "      <td>-0.103974</td>\n",
              "      <td>1.000000</td>\n",
              "    </tr>\n",
              "  </tbody>\n",
              "</table>\n",
              "</div>"
            ],
            "text/plain": [
              "                  Song Popularity  danceability    energy       key  loudness  \\\n",
              "Song Popularity          1.000000      0.094587 -0.042630  0.118154 -0.075572   \n",
              "danceability             0.094587      1.000000  0.262169  0.029301  0.172135   \n",
              "energy                  -0.042630      0.262169  1.000000 -0.002135  0.758051   \n",
              "key                      0.118154      0.029301 -0.002135  1.000000 -0.066843   \n",
              "loudness                -0.075572      0.172135  0.758051 -0.066843  1.000000   \n",
              "mode                    -0.126709     -0.242290  0.105566 -0.100958  0.176343   \n",
              "speechiness             -0.012346      0.272745 -0.029890 -0.184268 -0.065310   \n",
              "acousticness             0.002147     -0.317374 -0.553100 -0.073301 -0.351739   \n",
              "instrumentalness        -0.251602     -0.034127  0.070456  0.011360  0.036818   \n",
              "liveness                -0.046249     -0.042827  0.195744  0.112949  0.042302   \n",
              "valence                  0.110142      0.433881  0.470219  0.045025  0.338226   \n",
              "tempo                    0.168189     -0.132168 -0.001070  0.033708  0.033838   \n",
              "duration                -0.015823     -0.271103  0.031674 -0.197710  0.095026   \n",
              "time signature           0.137885      0.292509  0.261228 -0.093904  0.257276   \n",
              "\n",
              "                      mode  speechiness  acousticness  instrumentalness  \\\n",
              "Song Popularity  -0.126709    -0.012346      0.002147         -0.251602   \n",
              "danceability     -0.242290     0.272745     -0.317374         -0.034127   \n",
              "energy            0.105566    -0.029890     -0.553100          0.070456   \n",
              "key              -0.100958    -0.184268     -0.073301          0.011360   \n",
              "loudness          0.176343    -0.065310     -0.351739          0.036818   \n",
              "mode              1.000000    -0.227708     -0.001536         -0.111900   \n",
              "speechiness      -0.227708     1.000000     -0.116297         -0.101525   \n",
              "acousticness     -0.001536    -0.116297      1.000000          0.025490   \n",
              "instrumentalness -0.111900    -0.101525      0.025490          1.000000   \n",
              "liveness          0.022936     0.090106     -0.089795          0.017358   \n",
              "valence           0.052996     0.046031     -0.204082         -0.146982   \n",
              "tempo             0.028166     0.020845      0.060466         -0.158291   \n",
              "duration          0.052689    -0.158128     -0.016040         -0.091094   \n",
              "time signature    0.126886     0.056477     -0.237518         -0.120987   \n",
              "\n",
              "                  liveness   valence     tempo  duration  time signature  \n",
              "Song Popularity  -0.046249  0.110142  0.168189 -0.015823        0.137885  \n",
              "danceability     -0.042827  0.433881 -0.132168 -0.271103        0.292509  \n",
              "energy            0.195744  0.470219 -0.001070  0.031674        0.261228  \n",
              "key               0.112949  0.045025  0.033708 -0.197710       -0.093904  \n",
              "loudness          0.042302  0.338226  0.033838  0.095026        0.257276  \n",
              "mode              0.022936  0.052996  0.028166  0.052689        0.126886  \n",
              "speechiness       0.090106  0.046031  0.020845 -0.158128        0.056477  \n",
              "acousticness     -0.089795 -0.204082  0.060466 -0.016040       -0.237518  \n",
              "instrumentalness  0.017358 -0.146982 -0.158291 -0.091094       -0.120987  \n",
              "liveness          1.000000  0.111100  0.009637 -0.172730       -0.022646  \n",
              "valence           0.111100  1.000000  0.142806 -0.173729        0.206339  \n",
              "tempo             0.009637  0.142806  1.000000  0.030401        0.004482  \n",
              "duration         -0.172730 -0.173729  0.030401  1.000000       -0.103974  \n",
              "time signature   -0.022646  0.206339  0.004482 -0.103974        1.000000  "
            ]
          },
          "execution_count": 1933,
          "metadata": {},
          "output_type": "execute_result"
        }
      ],
      "source": [
        "billboard_df.corr()"
      ]
    },
    {
      "cell_type": "code",
      "execution_count": null,
      "metadata": {
        "id": "J0t6G57lMuBy",
        "outputId": "5c219dfa-dcf2-4273-8b46-727aaa179ecc"
      },
      "outputs": [
        {
          "data": {
            "image/png": "[encoded data removed]",
            "text/plain": [
              "<Figure size 864x864 with 2 Axes>"
            ]
          },
          "metadata": {
            "needs_background": "light"
          },
          "output_type": "display_data"
        }
      ],
      "source": [
        "f,ax = plt.subplots(figsize=(12, 12))\n",
        "sns.heatmap(billboard_df.corr(),annot=True, linewidths=0.4,linecolor=\"white\", fmt= '.1f',ax=ax,cmap=\"Greens\")\n",
        "plt.show() "
      ]
    },
    {
      "cell_type": "markdown",
      "metadata": {
        "id": "ma25hkhsMuBy"
      },
      "source": [
        "We can see that energy and loudness have a very high correlation score of 0.8. \n",
        "This makes sense because energetic songs tend to be loud too. \n",
        "\n",
        "We can also a see a somewhat high correlation between energy and valence (0.5). Songs with high valence scores tend to be positive, positive songs tend to be upbeat, so that explains it. "
      ]
    },
    {
      "cell_type": "markdown",
      "metadata": {
        "id": "Q8xCPHGuMuBy"
      },
      "source": [
        "### Frequency of songs based on emotion"
      ]
    },
    {
      "cell_type": "code",
      "execution_count": null,
      "metadata": {
        "id": "cevww6PkMuBy"
      },
      "outputs": [],
      "source": [
        " def song_emotion(row):\n",
        "        if row[\"valence\"] > 0.5:\n",
        "            return \"happy\"\n",
        "        else:\n",
        "            return \"sad\"\n",
        "\n",
        "billboard_df[\"emotion\"] = billboard_df.apply(song_emotion, axis=1)"
      ]
    },
    {
      "cell_type": "code",
      "execution_count": null,
      "metadata": {
        "id": "rab_22LlMuBy",
        "outputId": "ee86a5e9-7266-4b73-d13d-6609f545ee21"
      },
      "outputs": [
        {
          "data": {
            "text/plain": [
              "Text(0.5, 1.0, 'Frequency of songs based on emotion')"
            ]
          },
          "execution_count": 1901,
          "metadata": {},
          "output_type": "execute_result"
        },
        {
          "data": {
            "image/png": "[encoded data removed]",
            "text/plain": [
              "<Figure size 432x288 with 1 Axes>"
            ]
          },
          "metadata": {
            "needs_background": "light"
          },
          "output_type": "display_data"
        }
      ],
      "source": [
        "billboard_df['emotion'].value_counts().plot(kind='bar', color=\"green\")\n",
        "plt.title('Frequency of songs based on emotion')"
      ]
    },
    {
      "cell_type": "markdown",
      "metadata": {
        "id": "FJ08S0CEMuBz"
      },
      "source": [
        "The frequency of sad songs is slightly higher than the frequency of happy songs from the billboard hot 100 list! What does this say about our listeners? Do we gravitate towards sad songs so we can wallow in misery? "
      ]
    },
    {
      "cell_type": "markdown",
      "metadata": {
        "id": "4uzKIvDDMuBz"
      },
      "source": [
        "Let's visualize the songs and their emotions based on song popularity scores. \n",
        "\n",
        "This score is based on the total number of plays the track has and how recent those plays are.\n",
        "The popularity of a track is a value between 0 and 100, with 100 being the most popular. \n",
        "\n",
        "New songs would have higher popularity scores compared to old songs. \n",
        "\n",
        "For this analysis, I want to create a subset of the dataset that contains really popular songs."
      ]
    },
    {
      "cell_type": "code",
      "execution_count": null,
      "metadata": {
        "id": "QZG9mmcmMuBz"
      },
      "outputs": [],
      "source": [
        "popular_songs = billboard_df[billboard_df[\"Song Popularity\"] > 80]"
      ]
    },
    {
      "cell_type": "code",
      "execution_count": null,
      "metadata": {
        "id": "1GunTeHiMuBz",
        "outputId": "c54afa90-1be3-4a12-9e2b-7e9f0004d7d7"
      },
      "outputs": [
        {
          "data": {
            "text/plain": [
              "sad      32\n",
              "happy    27\n",
              "Name: emotion, dtype: int64"
            ]
          },
          "execution_count": 1826,
          "metadata": {},
          "output_type": "execute_result"
        }
      ],
      "source": [
        "popular_songs['emotion'].value_counts()"
      ]
    },
    {
      "cell_type": "markdown",
      "metadata": {
        "id": "1ZO2TttlMuBz"
      },
      "source": [
        "Now let's examine the mood of these popular songs. "
      ]
    },
    {
      "cell_type": "code",
      "execution_count": null,
      "metadata": {
        "id": "HZ8RYD8tMuBz",
        "outputId": "051bf49b-23d3-4011-b8fd-361e37f6dc76"
      },
      "outputs": [
        {
          "data": {
            "text/plain": [
              "<AxesSubplot:>"
            ]
          },
          "execution_count": 1827,
          "metadata": {},
          "output_type": "execute_result"
        },
        {
          "data": {
            "image/png": "[encoded data removed]",
            "text/plain": [
              "<Figure size 432x288 with 1 Axes>"
            ]
          },
          "metadata": {
            "needs_background": "light"
          },
          "output_type": "display_data"
        }
      ],
      "source": [
        "popular_songs['emotion'].value_counts().plot(kind='bar', color=\"green\")"
      ]
    },
    {
      "cell_type": "markdown",
      "metadata": {
        "id": "G2RoI321MuBz"
      },
      "source": [
        "The count of sad songs is still slightly higher for extremely popular songs. Does listening to sad music during our worst moments help us process these emotions? Or do we just like to feel sad? I hope it isn't the latter, that would be very concerning. "
      ]
    },
    {
      "cell_type": "markdown",
      "metadata": {
        "id": "ZjMDDRfeMuBz"
      },
      "source": [
        "### Frequency of Popular Songs based on the Key"
      ]
    },
    {
      "cell_type": "code",
      "execution_count": null,
      "metadata": {
        "id": "DcgY33h_MuB0",
        "outputId": "9444da87-262a-4a15-fb68-c43ed0b02a1e"
      },
      "outputs": [
        {
          "data": {
            "image/png": "[encoded data removed]",
            "text/plain": [
              "<Figure size 432x288 with 1 Axes>"
            ]
          },
          "metadata": {
            "needs_background": "light"
          },
          "output_type": "display_data"
        }
      ],
      "source": [
        "sns.barplot(x = \"key\", y = \"Song Popularity\", data = billboard_df, color = \"green\")\n",
        "plt.title('Key vs Popularity')\n",
        "plt.show()"
      ]
    },
    {
      "cell_type": "markdown",
      "metadata": {
        "id": "XWpQkN7xMuB0"
      },
      "source": [
        "We can see that songs with a key value of 11 are extremely popular. This falls into pitch class B. "
      ]
    },
    {
      "cell_type": "markdown",
      "metadata": {
        "id": "QeOvJh0SMuB0"
      },
      "source": [
        "### Frequency of popular songs based on time signature"
      ]
    },
    {
      "cell_type": "code",
      "execution_count": null,
      "metadata": {
        "id": "vBG4gFEJMuB0",
        "outputId": "a013ecd2-35a1-46ca-bdc4-aafe0f49cd67"
      },
      "outputs": [
        {
          "data": {
            "image/png": "[encoded data removed]",
            "text/plain": [
              "<Figure size 432x288 with 1 Axes>"
            ]
          },
          "metadata": {
            "needs_background": "light"
          },
          "output_type": "display_data"
        }
      ],
      "source": [
        "sns.barplot(x = \"time signature\", y = \"Song Popularity\", data = billboard_df, color = \"green\")\n",
        "plt.title('Time signature vs Popularity')\n",
        "plt.show()"
      ]
    },
    {
      "cell_type": "markdown",
      "metadata": {
        "id": "9lS_1rm-MuB0"
      },
      "source": [
        "Songs with time signature 3 seem to be more popular. 3 beats per bar."
      ]
    },
    {
      "cell_type": "markdown",
      "metadata": {
        "id": "xdPpcJWSMuB0"
      },
      "source": [
        "## Relationships between Audio Features and Popular Songs"
      ]
    },
    {
      "cell_type": "code",
      "execution_count": null,
      "metadata": {
        "id": "l7cbYex7MuB0",
        "outputId": "05a6fa8b-c9e5-47b9-9589-101edf6e29d9"
      },
      "outputs": [
        {
          "data": {
            "text/plain": [
              "<seaborn.axisgrid.JointGrid at 0x7ff1cd0336d0>"
            ]
          },
          "execution_count": 1712,
          "metadata": {},
          "output_type": "execute_result"
        },
        {
          "data": {
            "image/png": "[encoded data removed]",
            "text/plain": [
              "<Figure size 432x432 with 3 Axes>"
            ]
          },
          "metadata": {
            "needs_background": "light"
          },
          "output_type": "display_data"
        }
      ],
      "source": [
        "sns.jointplot(x = 'valence', y = 'Song Popularity', data = billboard_df, color = \"green\")"
      ]
    },
    {
      "cell_type": "code",
      "execution_count": null,
      "metadata": {
        "id": "sGO2DgwgMuB0",
        "outputId": "d8d6775b-4471-4c99-b273-3c849ab72fe9"
      },
      "outputs": [
        {
          "data": {
            "text/plain": [
              "<seaborn.axisgrid.JointGrid at 0x7ff1ba615a60>"
            ]
          },
          "execution_count": 1713,
          "metadata": {},
          "output_type": "execute_result"
        },
        {
          "data": {
            "image/png": "[encoded data removed]",
            "text/plain": [
              "<Figure size 432x432 with 3 Axes>"
            ]
          },
          "metadata": {
            "needs_background": "light"
          },
          "output_type": "display_data"
        }
      ],
      "source": [
        "sns.jointplot(x = 'tempo', y = 'Song Popularity', data = billboard_df, color = \"green\")"
      ]
    },
    {
      "cell_type": "code",
      "execution_count": null,
      "metadata": {
        "id": "ng3Mg5s4MuB0",
        "outputId": "be0e021f-31ce-4897-daaf-9a3c5eb701c9"
      },
      "outputs": [
        {
          "data": {
            "text/plain": [
              "<seaborn.axisgrid.JointGrid at 0x7ff217fa2940>"
            ]
          },
          "execution_count": 1714,
          "metadata": {},
          "output_type": "execute_result"
        },
        {
          "data": {
            "image/png": "[encoded data removed]",
            "text/plain": [
              "<Figure size 432x432 with 3 Axes>"
            ]
          },
          "metadata": {
            "needs_background": "light"
          },
          "output_type": "display_data"
        }
      ],
      "source": [
        "sns.jointplot(x = 'danceability', y = 'Song Popularity', data = billboard_df, color = \"green\")"
      ]
    },
    {
      "cell_type": "code",
      "execution_count": null,
      "metadata": {
        "id": "2IAf1lrCMuB1",
        "outputId": "aba95526-25f8-43cf-8503-0f11dd27ffee"
      },
      "outputs": [
        {
          "data": {
            "text/plain": [
              "<seaborn.axisgrid.JointGrid at 0x7ff2154aef10>"
            ]
          },
          "execution_count": 1715,
          "metadata": {},
          "output_type": "execute_result"
        },
        {
          "data": {
            "image/png": "[encoded data removed]",
            "text/plain": [
              "<Figure size 432x432 with 3 Axes>"
            ]
          },
          "metadata": {
            "needs_background": "light"
          },
          "output_type": "display_data"
        }
      ],
      "source": [
        "sns.jointplot(x = 'acousticness', y = 'Song Popularity', data = billboard_df, color = \"green\")"
      ]
    },
    {
      "cell_type": "code",
      "execution_count": null,
      "metadata": {
        "id": "HLP0EUAWMuB1",
        "outputId": "e890c326-47ca-48a6-853f-9db579b4ad94"
      },
      "outputs": [
        {
          "data": {
            "text/plain": [
              "<seaborn.axisgrid.JointGrid at 0x7ff1fd52c8e0>"
            ]
          },
          "execution_count": 1716,
          "metadata": {},
          "output_type": "execute_result"
        },
        {
          "data": {
            "image/png": "[encoded data removed]",
            "text/plain": [
              "<Figure size 432x432 with 3 Axes>"
            ]
          },
          "metadata": {
            "needs_background": "light"
          },
          "output_type": "display_data"
        }
      ],
      "source": [
        "sns.jointplot(x = 'liveness', y = 'Song Popularity', data = billboard_df, color = \"green\")"
      ]
    },
    {
      "cell_type": "code",
      "execution_count": null,
      "metadata": {
        "id": "8eNdjwCWMuB1",
        "outputId": "06dea125-6f18-4a6f-ff71-934715e7fa76"
      },
      "outputs": [
        {
          "data": {
            "text/plain": [
              "<seaborn.axisgrid.JointGrid at 0x7ff1b912dc70>"
            ]
          },
          "execution_count": 1717,
          "metadata": {},
          "output_type": "execute_result"
        },
        {
          "data": {
            "image/png": "[encoded data removed]",
            "text/plain": [
              "<Figure size 432x432 with 3 Axes>"
            ]
          },
          "metadata": {
            "needs_background": "light"
          },
          "output_type": "display_data"
        }
      ],
      "source": [
        "sns.jointplot(x = 'instrumentalness', y = 'Song Popularity', data = billboard_df, color = \"green\")"
      ]
    },
    {
      "cell_type": "code",
      "execution_count": null,
      "metadata": {
        "id": "FbOcykvjMuB1",
        "outputId": "2bbe06ac-3749-495a-c7ff-f9e0f22c8d38"
      },
      "outputs": [
        {
          "data": {
            "text/plain": [
              "<seaborn.axisgrid.JointGrid at 0x7ff1cb82fe50>"
            ]
          },
          "execution_count": 1718,
          "metadata": {},
          "output_type": "execute_result"
        },
        {
          "data": {
            "image/png": "[encoded data removed]",
            "text/plain": [
              "<Figure size 432x432 with 3 Axes>"
            ]
          },
          "metadata": {
            "needs_background": "light"
          },
          "output_type": "display_data"
        }
      ],
      "source": [
        "sns.jointplot(x = 'tempo', y = 'Song Popularity', data = billboard_df, color = \"green\")"
      ]
    },
    {
      "cell_type": "code",
      "execution_count": null,
      "metadata": {
        "id": "leBcXFeaMuB1",
        "outputId": "89a57124-324b-4ce9-f051-75bb94469663"
      },
      "outputs": [
        {
          "data": {
            "text/plain": [
              "<seaborn.axisgrid.JointGrid at 0x7ff199784bb0>"
            ]
          },
          "execution_count": 1719,
          "metadata": {},
          "output_type": "execute_result"
        },
        {
          "data": {
            "image/png": "[encoded data removed]",
            "text/plain": [
              "<Figure size 432x432 with 3 Axes>"
            ]
          },
          "metadata": {
            "needs_background": "light"
          },
          "output_type": "display_data"
        }
      ],
      "source": [
        "sns.jointplot(x = 'speechiness', y = 'Song Popularity', data = billboard_df, color = \"green\")"
      ]
    },
    {
      "cell_type": "code",
      "execution_count": null,
      "metadata": {
        "id": "USmoEw4MMuB1",
        "outputId": "0abf40be-9d2b-48ec-b0f9-cfa3de7afbb2"
      },
      "outputs": [
        {
          "data": {
            "text/plain": [
              "<seaborn.axisgrid.JointGrid at 0x7ff1b9a01400>"
            ]
          },
          "execution_count": 1720,
          "metadata": {},
          "output_type": "execute_result"
        },
        {
          "data": {
            "image/png": "[encoded data removed]",
            "text/plain": [
              "<Figure size 432x432 with 3 Axes>"
            ]
          },
          "metadata": {
            "needs_background": "light"
          },
          "output_type": "display_data"
        }
      ],
      "source": [
        "sns.jointplot(x = 'duration', y = 'Song Popularity', data = billboard_df, color = \"green\")"
      ]
    },
    {
      "cell_type": "code",
      "execution_count": null,
      "metadata": {
        "id": "BO4uUOabMuB2",
        "outputId": "b18f09e4-e79d-47da-8a50-150a20d07a04"
      },
      "outputs": [
        {
          "data": {
            "text/plain": [
              "<seaborn.axisgrid.JointGrid at 0x7ff1a148a910>"
            ]
          },
          "execution_count": 1721,
          "metadata": {},
          "output_type": "execute_result"
        },
        {
          "data": {
            "image/png": "[encoded data removed]",
            "text/plain": [
              "<Figure size 432x432 with 3 Axes>"
            ]
          },
          "metadata": {
            "needs_background": "light"
          },
          "output_type": "display_data"
        }
      ],
      "source": [
        "sns.jointplot(x = 'key', y = 'Song Popularity', data = billboard_df, color = \"green\")"
      ]
    },
    {
      "cell_type": "markdown",
      "metadata": {
        "id": "zvcQL-c9MuB2"
      },
      "source": [
        "All the audio features seem to have medium-weak correlations with the popularity scores except for instrumentalness. We can't really see any relationship between instrumentalness and popularity. \n",
        "Perhaps this is related to the size of the dataset, data was scraped for only 100 songs from the Billboard Hot 100 list.\n",
        "\n",
        "Maybe we would be able to see strong correlation results if the dataset was bigger? "
      ]
    },
    {
      "cell_type": "markdown",
      "metadata": {
        "id": "Mj-5ljDCMuB2"
      },
      "source": [
        "## Feature Engineering"
      ]
    },
    {
      "cell_type": "markdown",
      "metadata": {
        "id": "aNtuZxQSMuB2"
      },
      "source": [
        "The metric that I am considering for popular songs is a popularity score that is greater than 80. \n",
        "I will be converting scores into a binary format based on this metric. If popularity > 80, then 1, else 0. This is the target variable that I am interested in predicting. \n",
        "\n",
        "In the process of feature engineering, we have to convert variables into a format that is suitable for machine learning algorithms. "
      ]
    },
    {
      "cell_type": "markdown",
      "metadata": {
        "id": "gHFPPyRQMuB2"
      },
      "source": [
        "### Target Variable Conversion"
      ]
    },
    {
      "cell_type": "code",
      "execution_count": null,
      "metadata": {
        "id": "QrsuDjIzMuB2"
      },
      "outputs": [],
      "source": [
        " def popularity_convertor(row):\n",
        "        if row[\"Song Popularity\"] > 80:\n",
        "            return 1\n",
        "        else:\n",
        "            return 0\n",
        "\n",
        "billboard_df[\"Song Popularity\"] = billboard_df.apply(popularity_convertor, axis=1)"
      ]
    },
    {
      "cell_type": "markdown",
      "metadata": {
        "id": "vTL6meSXMuB2"
      },
      "source": [
        "### Dropping highly correlated columns"
      ]
    },
    {
      "cell_type": "markdown",
      "metadata": {
        "id": "t-PmAQQ9MuB2"
      },
      "source": [
        "Energy and loudness are highly correlated with a score of 0.8.\n",
        "Having two columns that are highly correlated means that there is a potential linear relationship between them. They will equally be able to predict the outcome, which means removing one would be a good idea.\n",
        "\n",
        "We also don't need the emotion column for prediction, it was based entirely on the valence column. "
      ]
    },
    {
      "cell_type": "code",
      "execution_count": null,
      "metadata": {
        "id": "0K19oUb3MuB3"
      },
      "outputs": [],
      "source": [
        "billboard_df.drop([\"emotion\", \"loudness\"], axis=1, inplace = True)"
      ]
    },
    {
      "cell_type": "markdown",
      "metadata": {
        "id": "gm9UKtHyMuB3"
      },
      "source": [
        "### Dropping columns that are irrelevant for popularity prediction"
      ]
    },
    {
      "cell_type": "markdown",
      "metadata": {
        "id": "fyZeCBrBMuB3"
      },
      "source": [
        "We don't need Song ID because it doesn't have any impact on the popularity score of the song. We also don't need the name of the song for the purpose of prediction. \n",
        "Since most values in the instrumentalness column seem to be 0s, it doesn't really play a role in popularity score prediction. The joinplot also depicted a non existent correlation between instrumentalness and popularity.\n",
        "For this dataset, I will be dropping the column. \n",
        "\n",
        "I will also be dropping the name of the artist. For the purpose of prediction, I am only interested in using audio features. "
      ]
    },
    {
      "cell_type": "code",
      "execution_count": null,
      "metadata": {
        "id": "XJ9Tdj2hMuB3"
      },
      "outputs": [],
      "source": [
        "billboard_df.drop([\"Song Title\", \"Song ID\", \"Artist\"], axis=1, inplace = True)"
      ]
    },
    {
      "cell_type": "markdown",
      "metadata": {
        "id": "NJxOMPSKMuB3"
      },
      "source": [
        "### Turning categorical variables into dummies"
      ]
    },
    {
      "cell_type": "markdown",
      "metadata": {
        "id": "HCfLbUdLMuB3"
      },
      "source": [
        "Dummy variables are basically indicators of the presence or absence of a categorical variable. In this case, I am choosing the time signature column. This column has values that are either 3s or 4s. I want to split this into separate columns. "
      ]
    },
    {
      "cell_type": "code",
      "execution_count": null,
      "metadata": {
        "id": "o683hZSWMuB3"
      },
      "outputs": [],
      "source": [
        "billboard_df[\"time signature\"] = billboard_df[\"time signature\"].astype(\"category\")\n",
        "billboard_df = pd.get_dummies(billboard_df, columns=[\"time signature\"])"
      ]
    },
    {
      "cell_type": "markdown",
      "metadata": {
        "id": "wHPEFZsGMuB3"
      },
      "source": [
        "### Defining the feature dataset and the target variable"
      ]
    },
    {
      "cell_type": "code",
      "execution_count": null,
      "metadata": {
        "id": "QzRvQNnGMuB3"
      },
      "outputs": [],
      "source": [
        "y = billboard_df[\"Song Popularity\"]\n",
        "x = billboard_df.drop([\"Song Popularity\"], axis=1)"
      ]
    },
    {
      "cell_type": "code",
      "execution_count": null,
      "metadata": {
        "id": "dhiHSjehMuB3",
        "outputId": "fdbc1f43-7121-493c-eb3a-2306bcead86b"
      },
      "outputs": [
        {
          "data": {
            "text/plain": [
              "0     1\n",
              "1     1\n",
              "2     1\n",
              "3     1\n",
              "4     1\n",
              "     ..\n",
              "95    0\n",
              "96    1\n",
              "97    1\n",
              "98    0\n",
              "99    0\n",
              "Name: Song Popularity, Length: 100, dtype: int64"
            ]
          },
          "execution_count": 1958,
          "metadata": {},
          "output_type": "execute_result"
        }
      ],
      "source": [
        "y"
      ]
    },
    {
      "cell_type": "code",
      "execution_count": null,
      "metadata": {
        "id": "9U9CgBD2MuB3",
        "outputId": "3253aa37-52c5-4ef0-a55c-64a542ec47d9"
      },
      "outputs": [
        {
          "data": {
            "text/html": [
              "<div>\n",
              "<style scoped>\n",
              "    .dataframe tbody tr th:only-of-type {\n",
              "        vertical-align: middle;\n",
              "    }\n",
              "\n",
              "    .dataframe tbody tr th {\n",
              "        vertical-align: top;\n",
              "    }\n",
              "\n",
              "    .dataframe thead th {\n",
              "        text-align: right;\n",
              "    }\n",
              "</style>\n",
              "<table border=\"1\" class=\"dataframe\">\n",
              "  <thead>\n",
              "    <tr style=\"text-align: right;\">\n",
              "      <th></th>\n",
              "      <th>danceability</th>\n",
              "      <th>energy</th>\n",
              "      <th>key</th>\n",
              "      <th>mode</th>\n",
              "      <th>speechiness</th>\n",
              "      <th>acousticness</th>\n",
              "      <th>instrumentalness</th>\n",
              "      <th>liveness</th>\n",
              "      <th>valence</th>\n",
              "      <th>tempo</th>\n",
              "      <th>duration</th>\n",
              "      <th>time signature_3</th>\n",
              "      <th>time signature_4</th>\n",
              "    </tr>\n",
              "  </thead>\n",
              "  <tbody>\n",
              "    <tr>\n",
              "      <th>0</th>\n",
              "      <td>0.707</td>\n",
              "      <td>0.681</td>\n",
              "      <td>0</td>\n",
              "      <td>1</td>\n",
              "      <td>0.0668</td>\n",
              "      <td>0.0632</td>\n",
              "      <td>0.000005</td>\n",
              "      <td>0.0322</td>\n",
              "      <td>0.646</td>\n",
              "      <td>117.999</td>\n",
              "      <td>200455</td>\n",
              "      <td>0</td>\n",
              "      <td>1</td>\n",
              "    </tr>\n",
              "    <tr>\n",
              "      <th>1</th>\n",
              "      <td>0.644</td>\n",
              "      <td>0.728</td>\n",
              "      <td>8</td>\n",
              "      <td>1</td>\n",
              "      <td>0.0351</td>\n",
              "      <td>0.0543</td>\n",
              "      <td>0.169000</td>\n",
              "      <td>0.1610</td>\n",
              "      <td>0.430</td>\n",
              "      <td>88.993</td>\n",
              "      <td>153947</td>\n",
              "      <td>0</td>\n",
              "      <td>1</td>\n",
              "    </tr>\n",
              "    <tr>\n",
              "      <th>2</th>\n",
              "      <td>0.715</td>\n",
              "      <td>0.620</td>\n",
              "      <td>1</td>\n",
              "      <td>0</td>\n",
              "      <td>0.0484</td>\n",
              "      <td>0.4170</td>\n",
              "      <td>0.000000</td>\n",
              "      <td>0.0822</td>\n",
              "      <td>0.172</td>\n",
              "      <td>97.950</td>\n",
              "      <td>221520</td>\n",
              "      <td>0</td>\n",
              "      <td>1</td>\n",
              "    </tr>\n",
              "    <tr>\n",
              "      <th>3</th>\n",
              "      <td>0.696</td>\n",
              "      <td>0.809</td>\n",
              "      <td>5</td>\n",
              "      <td>1</td>\n",
              "      <td>0.0500</td>\n",
              "      <td>0.2520</td>\n",
              "      <td>0.000128</td>\n",
              "      <td>0.2480</td>\n",
              "      <td>0.857</td>\n",
              "      <td>132.962</td>\n",
              "      <td>131013</td>\n",
              "      <td>0</td>\n",
              "      <td>1</td>\n",
              "    </tr>\n",
              "    <tr>\n",
              "      <th>4</th>\n",
              "      <td>0.517</td>\n",
              "      <td>0.675</td>\n",
              "      <td>6</td>\n",
              "      <td>1</td>\n",
              "      <td>0.0357</td>\n",
              "      <td>0.4590</td>\n",
              "      <td>0.000000</td>\n",
              "      <td>0.1510</td>\n",
              "      <td>0.518</td>\n",
              "      <td>203.853</td>\n",
              "      <td>163855</td>\n",
              "      <td>0</td>\n",
              "      <td>1</td>\n",
              "    </tr>\n",
              "  </tbody>\n",
              "</table>\n",
              "</div>"
            ],
            "text/plain": [
              "   danceability  energy  key  mode  speechiness  acousticness  \\\n",
              "0         0.707   0.681    0     1       0.0668        0.0632   \n",
              "1         0.644   0.728    8     1       0.0351        0.0543   \n",
              "2         0.715   0.620    1     0       0.0484        0.4170   \n",
              "3         0.696   0.809    5     1       0.0500        0.2520   \n",
              "4         0.517   0.675    6     1       0.0357        0.4590   \n",
              "\n",
              "   instrumentalness  liveness  valence    tempo  duration  time signature_3  \\\n",
              "0          0.000005    0.0322    0.646  117.999    200455                 0   \n",
              "1          0.169000    0.1610    0.430   88.993    153947                 0   \n",
              "2          0.000000    0.0822    0.172   97.950    221520                 0   \n",
              "3          0.000128    0.2480    0.857  132.962    131013                 0   \n",
              "4          0.000000    0.1510    0.518  203.853    163855                 0   \n",
              "\n",
              "   time signature_4  \n",
              "0                 1  \n",
              "1                 1  \n",
              "2                 1  \n",
              "3                 1  \n",
              "4                 1  "
            ]
          },
          "execution_count": 1833,
          "metadata": {},
          "output_type": "execute_result"
        }
      ],
      "source": [
        "x.head()"
      ]
    },
    {
      "cell_type": "markdown",
      "metadata": {
        "id": "HqQbB1QOMuB4"
      },
      "source": [
        "### Normalization"
      ]
    },
    {
      "cell_type": "markdown",
      "metadata": {
        "id": "pZC5NJIAMuB4"
      },
      "source": [
        "Normalization can be used to transform the columns of the data frame to the same scale. I will be using Min-Max Scaling. This is a technique that's used to subtract the minimum value from each column's max value, it is then divided by the range. The new column will have a minimum value of 0 and a maximum value of 1. "
      ]
    },
    {
      "cell_type": "code",
      "execution_count": null,
      "metadata": {
        "id": "Uu3TBmfYMuB4",
        "outputId": "42e16eb7-faf7-4bb1-9fa7-b4edf4764fb5"
      },
      "outputs": [
        {
          "data": {
            "text/html": [
              "<div>\n",
              "<style scoped>\n",
              "    .dataframe tbody tr th:only-of-type {\n",
              "        vertical-align: middle;\n",
              "    }\n",
              "\n",
              "    .dataframe tbody tr th {\n",
              "        vertical-align: top;\n",
              "    }\n",
              "\n",
              "    .dataframe thead th {\n",
              "        text-align: right;\n",
              "    }\n",
              "</style>\n",
              "<table border=\"1\" class=\"dataframe\">\n",
              "  <thead>\n",
              "    <tr style=\"text-align: right;\">\n",
              "      <th></th>\n",
              "      <th>danceability</th>\n",
              "      <th>energy</th>\n",
              "      <th>key</th>\n",
              "      <th>mode</th>\n",
              "      <th>speechiness</th>\n",
              "      <th>acousticness</th>\n",
              "      <th>instrumentalness</th>\n",
              "      <th>liveness</th>\n",
              "      <th>valence</th>\n",
              "      <th>tempo</th>\n",
              "      <th>duration</th>\n",
              "      <th>time signature_3</th>\n",
              "      <th>time signature_4</th>\n",
              "    </tr>\n",
              "  </thead>\n",
              "  <tbody>\n",
              "    <tr>\n",
              "      <th>0</th>\n",
              "      <td>0.648801</td>\n",
              "      <td>0.632600</td>\n",
              "      <td>0.000000</td>\n",
              "      <td>1.0</td>\n",
              "      <td>0.097504</td>\n",
              "      <td>0.067716</td>\n",
              "      <td>0.000029</td>\n",
              "      <td>0.000000</td>\n",
              "      <td>0.669421</td>\n",
              "      <td>0.331142</td>\n",
              "      <td>0.464306</td>\n",
              "      <td>0.0</td>\n",
              "      <td>1.0</td>\n",
              "    </tr>\n",
              "    <tr>\n",
              "      <th>1</th>\n",
              "      <td>0.559944</td>\n",
              "      <td>0.693402</td>\n",
              "      <td>0.727273</td>\n",
              "      <td>1.0</td>\n",
              "      <td>0.022845</td>\n",
              "      <td>0.057930</td>\n",
              "      <td>0.954802</td>\n",
              "      <td>0.199134</td>\n",
              "      <td>0.431405</td>\n",
              "      <td>0.105166</td>\n",
              "      <td>0.188820</td>\n",
              "      <td>0.0</td>\n",
              "      <td>1.0</td>\n",
              "    </tr>\n",
              "    <tr>\n",
              "      <th>2</th>\n",
              "      <td>0.660085</td>\n",
              "      <td>0.553687</td>\n",
              "      <td>0.090909</td>\n",
              "      <td>0.0</td>\n",
              "      <td>0.054169</td>\n",
              "      <td>0.456773</td>\n",
              "      <td>0.000000</td>\n",
              "      <td>0.077304</td>\n",
              "      <td>0.147107</td>\n",
              "      <td>0.174947</td>\n",
              "      <td>0.589082</td>\n",
              "      <td>0.0</td>\n",
              "      <td>1.0</td>\n",
              "    </tr>\n",
              "    <tr>\n",
              "      <th>3</th>\n",
              "      <td>0.633286</td>\n",
              "      <td>0.798189</td>\n",
              "      <td>0.454545</td>\n",
              "      <td>1.0</td>\n",
              "      <td>0.057937</td>\n",
              "      <td>0.275330</td>\n",
              "      <td>0.000723</td>\n",
              "      <td>0.333643</td>\n",
              "      <td>0.901928</td>\n",
              "      <td>0.447713</td>\n",
              "      <td>0.052973</td>\n",
              "      <td>0.0</td>\n",
              "      <td>1.0</td>\n",
              "    </tr>\n",
              "    <tr>\n",
              "      <th>4</th>\n",
              "      <td>0.380818</td>\n",
              "      <td>0.624838</td>\n",
              "      <td>0.545455</td>\n",
              "      <td>1.0</td>\n",
              "      <td>0.024258</td>\n",
              "      <td>0.502958</td>\n",
              "      <td>0.000000</td>\n",
              "      <td>0.183673</td>\n",
              "      <td>0.528375</td>\n",
              "      <td>1.000000</td>\n",
              "      <td>0.247509</td>\n",
              "      <td>0.0</td>\n",
              "      <td>1.0</td>\n",
              "    </tr>\n",
              "  </tbody>\n",
              "</table>\n",
              "</div>"
            ],
            "text/plain": [
              "   danceability    energy       key  mode  speechiness  acousticness  \\\n",
              "0      0.648801  0.632600  0.000000   1.0     0.097504      0.067716   \n",
              "1      0.559944  0.693402  0.727273   1.0     0.022845      0.057930   \n",
              "2      0.660085  0.553687  0.090909   0.0     0.054169      0.456773   \n",
              "3      0.633286  0.798189  0.454545   1.0     0.057937      0.275330   \n",
              "4      0.380818  0.624838  0.545455   1.0     0.024258      0.502958   \n",
              "\n",
              "   instrumentalness  liveness   valence     tempo  duration  time signature_3  \\\n",
              "0          0.000029  0.000000  0.669421  0.331142  0.464306               0.0   \n",
              "1          0.954802  0.199134  0.431405  0.105166  0.188820               0.0   \n",
              "2          0.000000  0.077304  0.147107  0.174947  0.589082               0.0   \n",
              "3          0.000723  0.333643  0.901928  0.447713  0.052973               0.0   \n",
              "4          0.000000  0.183673  0.528375  1.000000  0.247509               0.0   \n",
              "\n",
              "   time signature_4  \n",
              "0               1.0  \n",
              "1               1.0  \n",
              "2               1.0  \n",
              "3               1.0  \n",
              "4               1.0  "
            ]
          },
          "execution_count": 1834,
          "metadata": {},
          "output_type": "execute_result"
        }
      ],
      "source": [
        "# Normalization\n",
        "import numpy as np\n",
        "\n",
        "\n",
        "x_norm = (x - np.min(x))/(np.max(x)-np.min(x)).values\n",
        "x_norm.head()"
      ]
    },
    {
      "cell_type": "markdown",
      "metadata": {
        "id": "WMdPY5r9MuB4"
      },
      "source": [
        "## Model Implementation"
      ]
    },
    {
      "cell_type": "code",
      "execution_count": null,
      "metadata": {
        "id": "zgsRjbyZMuB4"
      },
      "outputs": [],
      "source": [
        "# Train test split\n",
        "from sklearn.model_selection import train_test_split\n",
        "X_train, X_Test, y_train, y_test = train_test_split(x_norm, y, test_size = 0.2, random_state = 420)"
      ]
    },
    {
      "cell_type": "markdown",
      "metadata": {
        "id": "9zQWKMs9MuB4"
      },
      "source": [
        "The model that I have chosen for the prediction of popularity scores is the random forest classifier. Random forest combines the predictions of many decision trees to give the a good accuracy. "
      ]
    },
    {
      "cell_type": "code",
      "execution_count": null,
      "metadata": {
        "id": "0rP2f0PJMuB4",
        "outputId": "77de44e3-bb8b-40d8-a324-332aedf2601f"
      },
      "outputs": [
        {
          "name": "stdout",
          "output_type": "stream",
          "text": [
            "Accuracy: 0.7\n",
            "AUC: 0.6458333333333333\n"
          ]
        }
      ],
      "source": [
        "from sklearn.ensemble import RandomForestClassifier\n",
        "RFC_Model = RandomForestClassifier()\n",
        "RFC_Model.fit(X_train, y_train)\n",
        "RFC_Predict = RFC_Model.predict(X_Test)\n",
        "RFC_Accuracy = accuracy_score(y_test, RFC_Predict)\n",
        "print(\"Accuracy: \" + str(RFC_Accuracy))\n",
        "\n",
        "RFC_AUC = roc_auc_score(y_test, RFC_Predict) \n",
        "print(\"AUC: \" + str(RFC_AUC))"
      ]
    },
    {
      "cell_type": "markdown",
      "metadata": {
        "id": "X2DMlsVWMuB4"
      },
      "source": [
        "The accuracy using the random forest model is 70%, which is satisfactory. But I would like to use a bigger dataset with more songs next time to see how it affects the performance."
      ]
    },
    {
      "cell_type": "markdown",
      "metadata": {
        "id": "qslLwa3TMuB4"
      },
      "source": [
        "### Predicted Values"
      ]
    },
    {
      "cell_type": "code",
      "execution_count": null,
      "metadata": {
        "id": "uRIEEqqpMuB5",
        "outputId": "c72f795c-7c01-4941-ecfb-dd6b8dd435c5"
      },
      "outputs": [
        {
          "data": {
            "text/plain": [
              "array([1, 1, 1, 1, 0, 0, 0, 0, 1, 1, 1, 0, 1, 1, 1, 1, 1, 0, 0, 1])"
            ]
          },
          "execution_count": 958,
          "metadata": {},
          "output_type": "execute_result"
        }
      ],
      "source": [
        "predictions = RFC_Model.predict(X_Test)\n",
        "predictions"
      ]
    },
    {
      "cell_type": "markdown",
      "metadata": {
        "id": "ec9Zmp9pMuB5"
      },
      "source": [
        "1 represents a high popularity score of over 80 and 0 represents a low popularity score that falls below 80. "
      ]
    },
    {
      "cell_type": "code",
      "execution_count": null,
      "metadata": {
        "id": "NWyf0VygMuB5",
        "outputId": "fc543521-009f-46ad-dedc-49b63e47f8d6"
      },
      "outputs": [
        {
          "data": {
            "text/plain": [
              "12    1\n",
              "48    1\n",
              "41    1\n",
              "21    1\n",
              "45    0\n",
              "42    0\n",
              "40    0\n",
              "73    0\n",
              "17    0\n",
              "19    1\n",
              "62    1\n",
              "18    1\n",
              "25    0\n",
              "7     1\n",
              "44    1\n",
              "0     1\n",
              "13    1\n",
              "33    1\n",
              "66    0\n",
              "50    1\n",
              "Name: Song Popularity, dtype: int64"
            ]
          },
          "execution_count": 959,
          "metadata": {},
          "output_type": "execute_result"
        }
      ],
      "source": [
        "y_test"
      ]
    },
    {
      "cell_type": "markdown",
      "metadata": {
        "id": "Q48_L-3MMuB5"
      },
      "source": [
        "These are the true values."
      ]
    }
  ],
  "metadata": {
    "kernelspec": {
      "display_name": "Python 3",
      "language": "python",
      "name": "python3"
    },
    "language_info": {
      "codemirror_mode": {
        "name": "ipython",
        "version": 3
      },
      "file_extension": ".py",
      "mimetype": "text/x-python",
      "name": "python",
      "nbconvert_exporter": "python",
      "pygments_lexer": "ipython3",
      "version": "3.8.5"
    },
    "colab": {
      "provenance": []
    }
  },
  "nbformat": 4,
  "nbformat_minor": 0
}